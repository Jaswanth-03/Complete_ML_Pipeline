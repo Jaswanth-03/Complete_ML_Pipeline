{
  "cells": [
    {
      "cell_type": "markdown",
      "metadata": {
        "id": "view-in-github",
        "colab_type": "text"
      },
      "source": [
        "<a href=\"https://colab.research.google.com/github/Jaswanth-03/Complete_ML_Pipeline/blob/main/Complete_ML_Pipeline.ipynb\" target=\"_parent\"><img src=\"https://colab.research.google.com/assets/colab-badge.svg\" alt=\"Open In Colab\"/></a>"
      ]
    },
    {
      "cell_type": "markdown",
      "source": [
        "# EDA and Data preprocessing"
      ],
      "metadata": {
        "id": "doaPsbvCuDUD"
      }
    },
    {
      "cell_type": "markdown",
      "source": [
        "# handling missing data"
      ],
      "metadata": {
        "id": "ql5Pb8qkdp9v"
      }
    },
    {
      "cell_type": "code",
      "execution_count": 1,
      "metadata": {
        "colab": {
          "base_uri": "https://localhost:8080/"
        },
        "id": "Xud17UjJyn-f",
        "outputId": "1a07bb5d-dc4d-4d81-a31c-81a999b72f22"
      },
      "outputs": [
        {
          "output_type": "stream",
          "name": "stdout",
          "text": [
            "     A    B\n",
            "0  1.0  NaN\n",
            "1  2.0  2.0\n",
            "2  NaN  3.0\n",
            "3  4.0  4.0\n",
            "4  5.0  5.0\n",
            "Data after removing rows with missing values:\n",
            "     A    B\n",
            "1  2.0  2.0\n",
            "3  4.0  4.0\n",
            "4  5.0  5.0\n",
            "\n",
            "Data after removing columns with missing values:\n",
            "Empty DataFrame\n",
            "Columns: []\n",
            "Index: [0, 1, 2, 3, 4]\n"
          ]
        }
      ],
      "source": [
        "import pandas as pd\n",
        "\n",
        "data = pd.DataFrame({'A': [1, 2, None, 4, 5],\n",
        "                     'B': [None, 2, 3, 4, 5]})\n",
        "print(data)\n",
        "\n",
        "# Remove rows with any missing values\n",
        "data_cleaned = data.dropna()\n",
        "print(\"Data after removing rows with missing values:\")\n",
        "print(data_cleaned)\n",
        "\n",
        "# Remove columns with any missing values\n",
        "data_cleaned = data.dropna(axis=1)\n",
        "print(\"\\nData after removing columns with missing values:\")\n",
        "print(data_cleaned)\n"
      ]
    },
    {
      "cell_type": "markdown",
      "source": [
        "# Fill missing values with the mean\n"
      ],
      "metadata": {
        "id": "zIDXn44ueHmo"
      }
    },
    {
      "cell_type": "code",
      "execution_count": 2,
      "metadata": {
        "colab": {
          "base_uri": "https://localhost:8080/"
        },
        "id": "HKB6G5SIyr3G",
        "outputId": "3a0903f2-def7-409c-ce26-ad66ba8fd0ca"
      },
      "outputs": [
        {
          "output_type": "stream",
          "name": "stdout",
          "text": [
            "Data after imputation with the mean:\n",
            "0    1.0\n",
            "1    2.0\n",
            "2    3.0\n",
            "3    4.0\n",
            "4    5.0\n",
            "dtype: float64\n"
          ]
        }
      ],
      "source": [
        "import pandas as pd\n",
        "\n",
        "data = pd.Series([1, 2, None, 4, 5])\n",
        "\n",
        "# Fill missing values with the mean\n",
        "data_imputed = data.fillna(data.mean())\n",
        "print(\"Data after imputation with the mean:\")\n",
        "print(data_imputed)\n"
      ]
    },
    {
      "cell_type": "markdown",
      "source": [
        "# Forward fill missing values\n",
        "# Backward fill missing values\n"
      ],
      "metadata": {
        "id": "z3pGTyHieLSF"
      }
    },
    {
      "cell_type": "code",
      "execution_count": 3,
      "metadata": {
        "colab": {
          "base_uri": "https://localhost:8080/"
        },
        "id": "Cl1oWbcoy8ID",
        "outputId": "dd4eb686-dae1-4ec5-c1b3-76d12de12463"
      },
      "outputs": [
        {
          "output_type": "stream",
          "name": "stdout",
          "text": [
            "Data after forward fill:\n",
            "0    1.0\n",
            "1    1.0\n",
            "2    3.0\n",
            "3    3.0\n",
            "4    5.0\n",
            "dtype: float64\n",
            "\n",
            "Data after backward fill:\n",
            "0    1.0\n",
            "1    3.0\n",
            "2    3.0\n",
            "3    5.0\n",
            "4    5.0\n",
            "dtype: float64\n"
          ]
        }
      ],
      "source": [
        "import pandas as pd\n",
        "\n",
        "data = pd.Series([1, None, 3, None, 5])\n",
        "\n",
        "# Forward fill missing values\n",
        "data_filled = data.ffill()\n",
        "print(\"Data after forward fill:\")\n",
        "print(data_filled)\n",
        "\n",
        "# Backward fill missing values\n",
        "data_filled = data.bfill()\n",
        "print(\"\\nData after backward fill:\")\n",
        "print(data_filled)\n"
      ]
    },
    {
      "cell_type": "markdown",
      "source": [
        "# Linear interpolation\n"
      ],
      "metadata": {
        "id": "HFvGZrPwd2BC"
      }
    },
    {
      "cell_type": "code",
      "execution_count": 4,
      "metadata": {
        "colab": {
          "base_uri": "https://localhost:8080/"
        },
        "id": "DvnsbRALzDAz",
        "outputId": "f063286b-9f89-40bd-9250-cdf6cd7063db"
      },
      "outputs": [
        {
          "output_type": "stream",
          "name": "stdout",
          "text": [
            "Data after linear interpolation:\n",
            "0    1.0\n",
            "1    2.0\n",
            "2    3.0\n",
            "3    4.0\n",
            "4    5.0\n",
            "dtype: float64\n"
          ]
        }
      ],
      "source": [
        "import pandas as pd\n",
        "\n",
        "data = pd.Series([1, None, 3, None, 5])\n",
        "\n",
        "# Linear interpolation\n",
        "data_interpolated = data.interpolate()\n",
        "print(\"Data after linear interpolation:\")\n",
        "print(data_interpolated)\n"
      ]
    },
    {
      "cell_type": "markdown",
      "source": [
        "# Custom function to replace missing values\n"
      ],
      "metadata": {
        "id": "gLSmVfGreP7y"
      }
    },
    {
      "cell_type": "code",
      "execution_count": 5,
      "metadata": {
        "colab": {
          "base_uri": "https://localhost:8080/"
        },
        "id": "0Tntc95qzH8V",
        "outputId": "f5c1fe3f-8479-4b97-a769-0e327c7fc873"
      },
      "outputs": [
        {
          "output_type": "stream",
          "name": "stdout",
          "text": [
            "Data after custom imputation:\n",
            "0    1.0\n",
            "1    0.0\n",
            "2    3.0\n",
            "3    0.0\n",
            "4    5.0\n",
            "dtype: float64\n"
          ]
        }
      ],
      "source": [
        "import pandas as pd\n",
        "\n",
        "data = pd.Series([1, None, 3, None, 5])\n",
        "\n",
        "# Custom function to replace missing values\n",
        "def custom_impute(val):\n",
        "    if pd.isnull(val):\n",
        "        return 0\n",
        "    else:\n",
        "        return val\n",
        "\n",
        "data_custom_imputed = data.apply(custom_impute)\n",
        "print(\"Data after custom imputation:\")\n",
        "print(data_custom_imputed)\n"
      ]
    },
    {
      "cell_type": "markdown",
      "source": [
        "# Remove duplicate rows\n"
      ],
      "metadata": {
        "id": "5qW3TyaKeR5k"
      }
    },
    {
      "cell_type": "code",
      "execution_count": 6,
      "metadata": {
        "colab": {
          "base_uri": "https://localhost:8080/"
        },
        "id": "pVm6djDDzMVk",
        "outputId": "247cd2a8-ccee-4422-cdf0-54c0c1c8e66f"
      },
      "outputs": [
        {
          "output_type": "stream",
          "name": "stdout",
          "text": [
            "Data after removing duplicates:\n",
            "   A    B\n",
            "0  1  foo\n",
            "1  2  bar\n",
            "3  3  baz\n",
            "4  4  qux\n"
          ]
        }
      ],
      "source": [
        "import pandas as pd\n",
        "\n",
        "data = pd.DataFrame({'A': [1, 2, 2, 3, 4],\n",
        "                     'B': ['foo', 'bar', 'bar', 'baz', 'qux']})\n",
        "\n",
        "# Remove duplicate rows\n",
        "data_cleaned = data.drop_duplicates()\n",
        "print(\"Data after removing duplicates:\")\n",
        "print(data_cleaned)\n"
      ]
    },
    {
      "cell_type": "markdown",
      "source": [
        "# Impute missing categorical values with the most frequent category\n",
        "# Alternatively, create a new category for missing values\n"
      ],
      "metadata": {
        "id": "A6lB0FrEeUc9"
      }
    },
    {
      "cell_type": "code",
      "execution_count": 7,
      "metadata": {
        "colab": {
          "base_uri": "https://localhost:8080/"
        },
        "id": "sKFvZCjpzk9J",
        "outputId": "0f65fbe6-4a16-4d02-befa-486a625191b7"
      },
      "outputs": [
        {
          "output_type": "stream",
          "name": "stdout",
          "text": [
            "Data after imputing missing categorical values:\n",
            "0     apple\n",
            "1    banana\n",
            "2    banana\n",
            "3    orange\n",
            "4    banana\n",
            "Name: A, dtype: object\n",
            "\n",
            "Data after creating a new category for missing values:\n",
            "         A\n",
            "0    apple\n",
            "1   banana\n",
            "2  missing\n",
            "3   orange\n",
            "4   banana\n"
          ]
        }
      ],
      "source": [
        "import pandas as pd\n",
        "\n",
        "data = pd.DataFrame({'A': ['apple', 'banana', None, 'orange', 'banana']})\n",
        "\n",
        "# Impute missing categorical values with the most frequent category\n",
        "print(\"Data after imputing missing categorical values:\")\n",
        "print(data['A'].fillna(data['A'].mode()[0]))\n",
        "\n",
        "# Alternatively, create a new category for missing values\n",
        "data['A'].fillna('missing', inplace=True)\n",
        "print(\"\\nData after creating a new category for missing values:\")\n",
        "print(data)\n"
      ]
    },
    {
      "cell_type": "markdown",
      "source": [
        "# Fill missing dates with a date range\n",
        "# Fill missing values with interpolation or other methods\n"
      ],
      "metadata": {
        "id": "mZ5K2aaDecLm"
      }
    },
    {
      "cell_type": "code",
      "execution_count": 8,
      "metadata": {
        "colab": {
          "base_uri": "https://localhost:8080/"
        },
        "id": "FEw1l0mj0OdE",
        "outputId": "b1a8c808-f809-42bb-cdc5-ceb5449a469d"
      },
      "outputs": [
        {
          "output_type": "stream",
          "name": "stdout",
          "text": [
            "<class 'pandas.core.frame.DataFrame'>\n",
            "RangeIndex: 4 entries, 0 to 3\n",
            "Data columns (total 2 columns):\n",
            " #   Column  Non-Null Count  Dtype \n",
            "---  ------  --------------  ----- \n",
            " 0   Date    3 non-null      object\n",
            " 1   Value   4 non-null      int64 \n",
            "dtypes: int64(1), object(1)\n",
            "memory usage: 192.0+ bytes\n",
            "None\n",
            "Data after converting 'Date' to datetime:\n",
            "        Date  Value\n",
            "0 2023-01-01     10\n",
            "1 2023-01-02     20\n",
            "2        NaT     15\n",
            "3 2023-01-04     30\n",
            "\n",
            "Data after filling missing dates with a date range:\n",
            "            Value\n",
            "Date             \n",
            "2023-01-01   10.0\n",
            "2023-01-02   20.0\n",
            "2023-01-03    NaN\n",
            "2023-01-04   30.0\n",
            "\n",
            "Data after interpolating missing values:\n",
            "            Value\n",
            "Date             \n",
            "2023-01-01   10.0\n",
            "2023-01-02   20.0\n",
            "2023-01-03   25.0\n",
            "2023-01-04   30.0\n"
          ]
        }
      ],
      "source": [
        "import pandas as pd\n",
        "\n",
        "data = pd.DataFrame({'Date': ['2023-01-01', '2023-01-02', None, '2023-01-04'],\n",
        "                     'Value': [10, 20, 15, 30]})\n",
        "\n",
        "print(data.info())\n",
        "\n",
        "# Convert the 'Date' column to a datetime type\n",
        "data['Date'] = pd.to_datetime(data['Date'])\n",
        "print(\"Data after converting 'Date' to datetime:\")\n",
        "print(data)\n",
        "\n",
        "# Fill missing dates with a date range\n",
        "data = data.set_index('Date').asfreq('D')\n",
        "print(\"\\nData after filling missing dates with a date range:\")\n",
        "print(data)\n",
        "\n",
        "# Fill missing values with interpolation or other methods\n",
        "data['Value'] = data['Value'].interpolate()\n",
        "print(\"\\nData after interpolating missing values:\")\n",
        "print(data)\n"
      ]
    },
    {
      "cell_type": "code",
      "execution_count": 9,
      "metadata": {
        "colab": {
          "base_uri": "https://localhost:8080/"
        },
        "id": "1RpojlNj0t4t",
        "outputId": "369a668b-19c2-40f1-a881-b79f72590fcc"
      },
      "outputs": [
        {
          "output_type": "stream",
          "name": "stdout",
          "text": [
            "Original Data:\n",
            "            values\n",
            "2023-01-01       0\n",
            "2023-01-02       1\n",
            "2023-01-03       2\n",
            "2023-01-04       3\n",
            "2023-01-05       4\n",
            "...            ...\n",
            "2023-05-06     125\n",
            "2023-05-07     126\n",
            "2023-05-08     127\n",
            "2023-05-09     128\n",
            "2023-05-10     129\n",
            "\n",
            "[130 rows x 1 columns]\n",
            "\n",
            "Resampled Data to Monthly Frequency:\n",
            "            values\n",
            "2023-01-31      30\n",
            "2023-02-28      58\n",
            "2023-03-31      89\n",
            "2023-04-30     119\n"
          ]
        }
      ],
      "source": [
        "import pandas as pd\n",
        "\n",
        "# Create a DataFrame with a DateTimeIndex\n",
        "date_rng = pd.date_range(start='2023-01-01', end='2023-05-10', freq='D')\n",
        "data = pd.DataFrame({'values': range(len(date_rng))}, index=date_rng)\n",
        "\n",
        "# Resample the data to a different frequency (e.g., monthly)\n",
        "resampled_data = data.asfreq('M')\n",
        "print(\"Original Data:\")\n",
        "print(data)\n",
        "print(\"\\nResampled Data to Monthly Frequency:\")\n",
        "print(resampled_data)\n"
      ]
    },
    {
      "cell_type": "code",
      "execution_count": 10,
      "metadata": {
        "colab": {
          "base_uri": "https://localhost:8080/"
        },
        "id": "fxtOZlpZ2-00",
        "outputId": "0a3d571d-3867-4c4e-ee11-233bbb9884da"
      },
      "outputs": [
        {
          "output_type": "stream",
          "name": "stdout",
          "text": [
            "\n",
            "Resampled Data with Forward-Fill:\n",
            "            values\n",
            "2023-01-31      30\n",
            "2023-02-28      58\n",
            "2023-03-31      89\n",
            "2023-04-30     119\n",
            "\n",
            "Resampled Data with Backward-Fill:\n",
            "            values\n",
            "2023-01-31      30\n",
            "2023-02-28      58\n",
            "2023-03-31      89\n",
            "2023-04-30     119\n"
          ]
        }
      ],
      "source": [
        "# Forward-fill missing data\n",
        "resampled_data_ffill = data.asfreq('M', method='ffill')\n",
        "print(\"\\nResampled Data with Forward-Fill:\")\n",
        "print(resampled_data_ffill)\n",
        "\n",
        "# Backward-fill missing data\n",
        "resampled_data_bfill = data.asfreq('M', method='bfill')\n",
        "print(\"\\nResampled Data with Backward-Fill:\")\n",
        "print(resampled_data_bfill)\n"
      ]
    },
    {
      "cell_type": "markdown",
      "metadata": {
        "id": "drHLjvjrDV24"
      },
      "source": [
        "# asfreq function"
      ]
    },
    {
      "cell_type": "markdown",
      "source": [
        "# Resample the data to a monthly frequency\n"
      ],
      "metadata": {
        "id": "rdPLMtM4emVF"
      }
    },
    {
      "cell_type": "code",
      "execution_count": 11,
      "metadata": {
        "colab": {
          "base_uri": "https://localhost:8080/"
        },
        "id": "m6ZaiDZO34nF",
        "outputId": "04a3d16d-ba12-4781-aabf-2f5b3645e954"
      },
      "outputs": [
        {
          "output_type": "stream",
          "name": "stdout",
          "text": [
            "Data resampled to monthly frequency:\n",
            "            values\n",
            "2023-01-31      30\n",
            "2023-02-28      58\n",
            "2023-03-31      89\n",
            "2023-04-30     119\n",
            "2023-05-31     150\n"
          ]
        }
      ],
      "source": [
        "import pandas as pd\n",
        "\n",
        "# Create a DataFrame with daily data\n",
        "date_rng = pd.date_range(start='2023-01-01', end='2023-06-10', freq='D')\n",
        "data = pd.DataFrame({'values': range(len(date_rng))}, index=date_rng)\n",
        "\n",
        "# Resample the data to a monthly frequency\n",
        "resampled_data = data.asfreq('M')\n",
        "print(\"Data resampled to monthly frequency:\")\n",
        "print(resampled_data)\n"
      ]
    },
    {
      "cell_type": "markdown",
      "source": [
        "# Resample the data to a monthly frequency with forward-fill for missing values\n"
      ],
      "metadata": {
        "id": "jWu31SX9epEY"
      }
    },
    {
      "cell_type": "code",
      "execution_count": 12,
      "metadata": {
        "colab": {
          "base_uri": "https://localhost:8080/"
        },
        "id": "85f8dzMDDYH3",
        "outputId": "2f40250c-84ef-4f33-ecba-ba8d1fafa839"
      },
      "outputs": [
        {
          "output_type": "stream",
          "name": "stdout",
          "text": [
            "Data resampled to monthly frequency with forward-fill:\n",
            "            values\n",
            "2023-01-31      30\n",
            "2023-02-28      58\n",
            "2023-03-31      89\n",
            "2023-04-30     119\n",
            "2023-05-31     150\n"
          ]
        }
      ],
      "source": [
        "# Resample the data to a monthly frequency with forward-fill for missing values\n",
        "resampled_data = data.asfreq('M', method='ffill')\n",
        "print(\"Data resampled to monthly frequency with forward-fill:\")\n",
        "print(resampled_data)\n"
      ]
    },
    {
      "cell_type": "markdown",
      "source": [
        "# Resample the data to a daily frequency and normalize the DateTimeIndex\n"
      ],
      "metadata": {
        "id": "4_lASnbkerEY"
      }
    },
    {
      "cell_type": "code",
      "execution_count": 13,
      "metadata": {
        "colab": {
          "base_uri": "https://localhost:8080/"
        },
        "id": "0pihJ0cnFrV0",
        "outputId": "bd195e67-2d42-47b3-fc2a-c2b809bf72e8"
      },
      "outputs": [
        {
          "output_type": "stream",
          "name": "stdout",
          "text": [
            "Data resampled to daily frequency with a normalized DateTimeIndex:\n",
            "            values\n",
            "2023-01-01       0\n",
            "2023-01-02       1\n",
            "2023-01-03       2\n",
            "2023-01-04       3\n",
            "2023-01-05       4\n",
            "...            ...\n",
            "2023-06-06     156\n",
            "2023-06-07     157\n",
            "2023-06-08     158\n",
            "2023-06-09     159\n",
            "2023-06-10     160\n",
            "\n",
            "[161 rows x 1 columns]\n"
          ]
        }
      ],
      "source": [
        "# Resample the data to a daily frequency and normalize the DateTimeIndex\n",
        "resampled_data = data.asfreq('D', normalize=True)\n",
        "print(\"Data resampled to daily frequency with a normalized DateTimeIndex:\")\n",
        "print(resampled_data)\n"
      ]
    },
    {
      "cell_type": "markdown",
      "source": [
        "# Upsample the series into 30-second bins\n"
      ],
      "metadata": {
        "id": "40tg7QEjetN1"
      }
    },
    {
      "cell_type": "code",
      "execution_count": 14,
      "metadata": {
        "colab": {
          "base_uri": "https://localhost:8080/"
        },
        "id": "LMUGACzVFw9U",
        "outputId": "dad64447-11a0-451a-fa76-e494018810a0"
      },
      "outputs": [
        {
          "output_type": "stream",
          "name": "stdout",
          "text": [
            "Data upsampled to 30-second bins:\n",
            "                       s\n",
            "2000-01-01 00:00:00  0.0\n",
            "2000-01-01 00:00:30  NaN\n",
            "2000-01-01 00:01:00  NaN\n",
            "2000-01-01 00:01:30  NaN\n",
            "2000-01-01 00:02:00  2.0\n",
            "2000-01-01 00:02:30  NaN\n",
            "2000-01-01 00:03:00  3.0\n"
          ]
        }
      ],
      "source": [
        "import pandas as pd\n",
        "\n",
        "# Create a DataFrame with a time series\n",
        "date_rng = pd.date_range('1/1/2000', periods=4, freq='T')\n",
        "series = pd.Series([0.0, None, 2.0, 3.0], index=date_rng)\n",
        "df = pd.DataFrame({'s': series})\n",
        "\n",
        "# Upsample the series into 30-second bins\n",
        "df_asfreq = df.asfreq(freq='30S')\n",
        "print(\"Data upsampled to 30-second bins:\")\n",
        "print(df_asfreq)\n"
      ]
    },
    {
      "cell_type": "markdown",
      "source": [
        "# Replace missing text with a placeholder\n"
      ],
      "metadata": {
        "id": "mdfBUOS0eu_0"
      }
    },
    {
      "cell_type": "code",
      "execution_count": 15,
      "metadata": {
        "colab": {
          "base_uri": "https://localhost:8080/"
        },
        "id": "7xj9yDXqF99G",
        "outputId": "eb1a3560-cd88-4b60-a946-afbeee4b7d14"
      },
      "outputs": [
        {
          "output_type": "stream",
          "name": "stdout",
          "text": [
            "Data after replacing missing text values:\n",
            "0     text 1\n",
            "1    No Text\n",
            "2     text 3\n",
            "3     text 4\n",
            "4    No Text\n",
            "dtype: object\n"
          ]
        }
      ],
      "source": [
        "import pandas as pd\n",
        "\n",
        "data = pd.Series(['text 1', None, 'text 3', 'text 4', None])\n",
        "\n",
        "# Replace missing text with a placeholder\n",
        "data.fillna('No Text', inplace=True)\n",
        "print(\"Data after replacing missing text values:\")\n",
        "print(data)\n"
      ]
    },
    {
      "cell_type": "markdown",
      "source": [
        "# Replace missing temperature values based on weather conditions\n"
      ],
      "metadata": {
        "id": "kRlx6THWeyD1"
      }
    },
    {
      "cell_type": "code",
      "execution_count": 16,
      "metadata": {
        "colab": {
          "base_uri": "https://localhost:8080/"
        },
        "id": "mGBInQTKL9_U",
        "outputId": "3d3a43c7-fc51-4a7a-b657-a9b84af8c327"
      },
      "outputs": [
        {
          "output_type": "stream",
          "name": "stdout",
          "text": [
            "Data after replacing missing temperature values based on weather conditions:\n",
            "   Temperature Weather\n",
            "0         25.0   sunny\n",
            "1         22.0  cloudy\n",
            "2         30.0   rainy\n",
            "3         28.0   sunny\n",
            "4         20.0   rainy\n"
          ]
        }
      ],
      "source": [
        "import pandas as pd\n",
        "\n",
        "data = pd.DataFrame({'Temperature': [25, None, 30, None, 20],\n",
        "                     'Weather': ['sunny', 'cloudy', 'rainy', 'sunny', 'rainy']})\n",
        "\n",
        "# Replace missing temperature values based on weather conditions\n",
        "data.loc[(data['Temperature'].isna()) & (data['Weather'] == 'sunny'), 'Temperature'] = 28\n",
        "data.loc[(data['Temperature'].isna()) & (data['Weather'] == 'cloudy'), 'Temperature'] = 22\n",
        "data.loc[(data['Temperature'].isna()) & (data['Weather'] == 'rainy'), 'Temperature'] = 18\n",
        "print(\"Data after replacing missing temperature values based on weather conditions:\")\n",
        "print(data)\n"
      ]
    },
    {
      "cell_type": "markdown",
      "metadata": {
        "id": "3aVeyfsdP3iF"
      },
      "source": [
        "# Feature scaling and normalization"
      ]
    },
    {
      "cell_type": "markdown",
      "source": [
        "# Min-Max Scaling:\n"
      ],
      "metadata": {
        "id": "8LKQmr4ce03b"
      }
    },
    {
      "cell_type": "code",
      "execution_count": 17,
      "metadata": {
        "colab": {
          "base_uri": "https://localhost:8080/"
        },
        "id": "fDtM6rm5MZPu",
        "outputId": "22ddf34f-1265-4cb1-9628-b4509e7fe4e4"
      },
      "outputs": [
        {
          "output_type": "stream",
          "name": "stdout",
          "text": [
            "Original Data:\n",
            "[[1. 2. 3.]\n",
            " [4. 5. 6.]\n",
            " [7. 8. 9.]]\n",
            "\n",
            "Scaled Data (Min-Max Scaling):\n",
            "[[0.  0.  0. ]\n",
            " [0.5 0.5 0.5]\n",
            " [1.  1.  1. ]]\n"
          ]
        }
      ],
      "source": [
        "# Min-Max Scaling:\n",
        "# Min-Max scaling, also known as normalization, scales your data to a fixed range, typically [0, 1].\n",
        "\n",
        "# python\n",
        "# Copy code\n",
        "import numpy as np\n",
        "from sklearn.preprocessing import MinMaxScaler\n",
        "\n",
        "# Sample data\n",
        "data = np.array([[1.0, 2.0, 3.0],\n",
        "                 [4.0, 5.0, 6.0],\n",
        "                 [7.0, 8.0, 9.0]])\n",
        "\n",
        "# Create a Min-Max scaler\n",
        "scaler = MinMaxScaler()\n",
        "\n",
        "# Fit and transform the data\n",
        "scaled_data = scaler.fit_transform(data)\n",
        "\n",
        "print(\"Original Data:\")\n",
        "print(data)\n",
        "print(\"\\nScaled Data (Min-Max Scaling):\")\n",
        "print(scaled_data)"
      ]
    },
    {
      "cell_type": "markdown",
      "source": [
        "# Z-Score (Standardization):\n"
      ],
      "metadata": {
        "id": "3p7lIa_oe3Qh"
      }
    },
    {
      "cell_type": "code",
      "execution_count": 18,
      "metadata": {
        "colab": {
          "base_uri": "https://localhost:8080/"
        },
        "id": "Q448tOZzQz20",
        "outputId": "f7a3d57a-7bd8-43ba-b19e-7249a59acd2d"
      },
      "outputs": [
        {
          "output_type": "stream",
          "name": "stdout",
          "text": [
            "Original Data:\n",
            "[[1. 2. 3.]\n",
            " [4. 5. 6.]\n",
            " [7. 8. 9.]]\n",
            "\n",
            "Standardized Data (Z-Score):\n",
            "[[-1.22474487 -1.22474487 -1.22474487]\n",
            " [ 0.          0.          0.        ]\n",
            " [ 1.22474487  1.22474487  1.22474487]]\n"
          ]
        }
      ],
      "source": [
        "# Z-Score (Standardization):\n",
        "# Standardization scales your data to have a mean of 0 and a standard deviation of 1.\n",
        "\n",
        "# python\n",
        "# Copy code\n",
        "from sklearn.preprocessing import StandardScaler\n",
        "\n",
        "# Sample data\n",
        "data = np.array([[1.0, 2.0, 3.0],\n",
        "                 [4.0, 5.0, 6.0],\n",
        "                 [7.0, 8.0, 9.0]])\n",
        "\n",
        "# Create a StandardScaler\n",
        "scaler = StandardScaler()\n",
        "\n",
        "# Fit and transform the data\n",
        "standardized_data = scaler.fit_transform(data)\n",
        "\n",
        "print(\"Original Data:\")\n",
        "print(data)\n",
        "print(\"\\nStandardized Data (Z-Score):\")\n",
        "print(standardized_data)"
      ]
    },
    {
      "cell_type": "markdown",
      "source": [
        "# Robust Scaling:\n"
      ],
      "metadata": {
        "id": "oF0Ip-ste49_"
      }
    },
    {
      "cell_type": "code",
      "execution_count": 19,
      "metadata": {
        "colab": {
          "base_uri": "https://localhost:8080/"
        },
        "id": "IJXq6we6RHVe",
        "outputId": "cd13516a-60fd-4a4e-ffbf-a04770646d12"
      },
      "outputs": [
        {
          "output_type": "stream",
          "name": "stdout",
          "text": [
            "Original Data (with outliers):\n",
            "[[  1.   2.   3.]\n",
            " [  4.   5.   6.]\n",
            " [100. 200. 300.]]\n",
            "\n",
            "Robust Scaled Data:\n",
            "[[-0.06060606 -0.03030303 -0.02020202]\n",
            " [ 0.          0.          0.        ]\n",
            " [ 1.93939394  1.96969697  1.97979798]]\n"
          ]
        }
      ],
      "source": [
        "# Robust Scaling:\n",
        "# Robust scaling is a technique that scales your data based on percentiles and is more robust to outliers.\n",
        "\n",
        "# python\n",
        "# Copy code\n",
        "from sklearn.preprocessing import RobustScaler\n",
        "\n",
        "# Sample data with outliers\n",
        "data = np.array([[1.0, 2.0, 3.0],\n",
        "                 [4.0, 5.0, 6.0],\n",
        "                 [100.0, 200.0, 300.0]])\n",
        "\n",
        "# Create a RobustScaler\n",
        "scaler = RobustScaler()\n",
        "\n",
        "# Fit and transform the data\n",
        "robust_scaled_data = scaler.fit_transform(data)\n",
        "\n",
        "print(\"Original Data (with outliers):\")\n",
        "print(data)\n",
        "print(\"\\nRobust Scaled Data:\")\n",
        "print(robust_scaled_data)"
      ]
    },
    {
      "cell_type": "markdown",
      "source": [
        "# Power Transformer:\n"
      ],
      "metadata": {
        "id": "5I4quBVAe688"
      }
    },
    {
      "cell_type": "code",
      "execution_count": 20,
      "metadata": {
        "colab": {
          "base_uri": "https://localhost:8080/"
        },
        "id": "J7DOP8cNRVur",
        "outputId": "dcfa82ee-3b43-45a1-a2f0-dbd8008b3040"
      },
      "outputs": [
        {
          "output_type": "stream",
          "name": "stdout",
          "text": [
            "Original Data:\n",
            "[[1. 2. 3.]\n",
            " [4. 5. 6.]\n",
            " [7. 8. 9.]]\n",
            "\n",
            "Transformed Data (Power Transformer):\n",
            "[[-1.27811626 -1.26755013 -1.26070573]\n",
            " [ 0.11483097  0.09064754  0.07540621]\n",
            " [ 1.16328529  1.17690258  1.18529952]]\n"
          ]
        }
      ],
      "source": [
        "# Power Transformer:\n",
        "# Power Transformer applies power and logarithmic transformations to make the data more Gaussian-like.\n",
        "\n",
        "# python\n",
        "# Copy code\n",
        "from sklearn.preprocessing import PowerTransformer\n",
        "\n",
        "# Sample data\n",
        "data = np.array([[1.0, 2.0, 3.0],\n",
        "                 [4.0, 5.0, 6.0],\n",
        "                 [7.0, 8.0, 9.0]])\n",
        "\n",
        "# Create a PowerTransformer\n",
        "scaler = PowerTransformer(method='yeo-johnson')\n",
        "\n",
        "# Fit and transform the data\n",
        "transformed_data = scaler.fit_transform(data)\n",
        "\n",
        "print(\"Original Data:\")\n",
        "print(data)\n",
        "print(\"\\nTransformed Data (Power Transformer):\")\n",
        "print(transformed_data)"
      ]
    },
    {
      "cell_type": "markdown",
      "source": [
        "# Quantile Transformer:\n"
      ],
      "metadata": {
        "id": "igCPTgg6e8q6"
      }
    },
    {
      "cell_type": "code",
      "execution_count": 21,
      "metadata": {
        "colab": {
          "base_uri": "https://localhost:8080/"
        },
        "id": "WXfrR63GR1U1",
        "outputId": "085f27cf-9682-4f42-e158-e728ab7f1289"
      },
      "outputs": [
        {
          "output_type": "stream",
          "name": "stdout",
          "text": [
            "Original Data:\n",
            "[[1. 2. 3.]\n",
            " [4. 5. 6.]\n",
            " [7. 8. 9.]]\n",
            "\n",
            "Quantile Transformed Data:\n",
            "[[0.  0.  0. ]\n",
            " [0.5 0.5 0.5]\n",
            " [1.  1.  1. ]]\n"
          ]
        },
        {
          "output_type": "stream",
          "name": "stderr",
          "text": [
            "/usr/local/lib/python3.10/dist-packages/sklearn/preprocessing/_data.py:2627: UserWarning: n_quantiles (1000) is greater than the total number of samples (3). n_quantiles is set to n_samples.\n",
            "  warnings.warn(\n"
          ]
        }
      ],
      "source": [
        "# Quantile Transformer:\n",
        "# Quantile Transformer maps data to a uniform or Gaussian distribution.\n",
        "\n",
        "# python\n",
        "# Copy code\n",
        "from sklearn.preprocessing import QuantileTransformer\n",
        "\n",
        "# Sample data\n",
        "data = np.array([[1.0, 2.0, 3.0],\n",
        "                 [4.0, 5.0, 6.0],\n",
        "                 [7.0, 8.0, 9.0]])\n",
        "\n",
        "# Create a QuantileTransformer\n",
        "scaler = QuantileTransformer(output_distribution='uniform')\n",
        "\n",
        "# Fit and transform the data\n",
        "quantile_transformed_data = scaler.fit_transform(data)\n",
        "\n",
        "print(\"Original Data:\")\n",
        "print(data)\n",
        "print(\"\\nQuantile Transformed Data:\")\n",
        "print(quantile_transformed_data)"
      ]
    },
    {
      "cell_type": "markdown",
      "source": [
        "# 5. Log Transformation:\n"
      ],
      "metadata": {
        "id": "kdLvscnQe-V-"
      }
    },
    {
      "cell_type": "code",
      "execution_count": 22,
      "metadata": {
        "colab": {
          "base_uri": "https://localhost:8080/"
        },
        "id": "M3FEqRmQSjnk",
        "outputId": "6cf1f036-7aa1-4742-aecd-a9893cb29c33"
      },
      "outputs": [
        {
          "output_type": "stream",
          "name": "stdout",
          "text": [
            "Original Data:\n",
            "[[1. 2.]\n",
            " [4. 5.]\n",
            " [7. 8.]]\n",
            "\n",
            "Log-Transformed Data:\n",
            "[[0.         0.69314718]\n",
            " [1.38629436 1.60943791]\n",
            " [1.94591015 2.07944154]]\n"
          ]
        }
      ],
      "source": [
        "# 5. Log Transformation:\n",
        "\n",
        "# A log transformation is often used when dealing with data that has a skewed distribution, helping to make it more normally distributed.\n",
        "\n",
        "# In a log transformation:\n",
        "\n",
        "# scss\n",
        "# Copy code\n",
        "# X_scaled = log(X)\n",
        "# Python code example:\n",
        "\n",
        "# python\n",
        "# Copy code\n",
        "import numpy as np\n",
        "\n",
        "# Sample data (positive values)\n",
        "data = np.array([[1.0, 2.0],\n",
        "                 [4.0, 5.0],\n",
        "                 [7.0, 8.0]])\n",
        "\n",
        "log_transformed_data = np.log(data)\n",
        "\n",
        "print(\"Original Data:\")\n",
        "print(data)\n",
        "print(\"\\nLog-Transformed Data:\")\n",
        "print(log_transformed_data)"
      ]
    },
    {
      "cell_type": "code",
      "execution_count": 23,
      "metadata": {
        "colab": {
          "base_uri": "https://localhost:8080/",
          "height": 1000
        },
        "id": "0Rfpxv3IUXDp",
        "outputId": "379d24ec-b8df-4ccb-bb2c-1efafeebc3bf"
      },
      "outputs": [
        {
          "output_type": "stream",
          "name": "stdout",
          "text": [
            "Original Data:\n",
            "[ 0.95373897  1.66069762 10.66296578  0.65704607  0.72370961  0.51407836\n",
            "  0.97961276  0.44702898  0.71408146  3.01429454  2.09877144  0.69645305\n",
            "  1.12654003  1.32510023  1.52479237  0.25608893  0.54722805  1.74729465\n",
            "  1.75248035  1.21733866  0.85754293  0.31778829  8.24834582  2.75767495\n",
            "  0.73668443  0.70411832  0.79801041  0.09911379  3.67554237  0.99861721\n",
            "  3.52245013  4.00063465  0.62810794  0.0192923   2.86628542  1.26031787\n",
            "  2.80426269  0.08693863  5.61234201  0.15952939  1.6761002   0.61148036\n",
            "  1.86739809  1.69086527  0.18763177 13.55789005  0.24876819  1.92918054\n",
            "  1.82892926  2.04405557  0.33180486  1.42308269  0.47189739  6.77075305\n",
            "  0.83760729  2.30905123  1.84633517  0.82571522  2.72281938  3.30416203\n",
            "  0.02166133  1.4477224   0.62118465  0.53949643  2.38925878  1.03652647\n",
            "  5.99954475  1.2788081   0.05420371  2.01101815  2.47922057  1.41405163\n",
            "  3.37895669  0.70029383  0.92856451  5.48368317  6.82140615  2.06050124\n",
            "  1.33984238  2.51830794  3.8791017   1.33296742  1.19401301  6.56703397\n",
            "  0.47596581  0.24553735  1.71749716  1.46986299  4.33461535  0.08485398\n",
            "  2.03576359  2.1450735   0.93668699  0.39493723  0.6134442   4.45184322\n",
            "  2.41649223  0.64634947  3.90460825  1.27776149]\n",
            "Transformed Data (Box-Cox):\n",
            "[-4.71208774e-02  5.36430958e-01  3.09989874e+00 -4.01295782e-01\n",
            " -3.12199803e-01 -6.19248815e-01 -2.05516169e-02 -7.38254360e-01\n",
            " -3.24660616e-01  1.24781801e+00  8.04810218e-01 -3.47819759e-01\n",
            "  1.20716434e-01  2.90329698e-01  4.41923445e-01 -1.17811060e+00\n",
            " -5.64847973e-01  5.93539713e-01  5.96888781e-01  2.00956145e-01\n",
            " -1.51130968e-01 -1.01400452e+00  2.68099465e+00  1.13566169e+00\n",
            " -2.95611019e-01 -3.37693949e-01 -2.20159044e-01 -1.81455808e+00\n",
            "  1.50581059e+00 -1.38353695e-03  1.44952351e+00  1.61951325e+00\n",
            " -4.42184668e-01 -2.64458424e+00  1.18408554e+00  2.37315116e-01\n",
            "  1.15661207e+00 -1.89250882e+00  2.09526843e+00 -1.51193810e+00\n",
            "  5.46756066e-01 -4.66349360e-01  6.69191511e-01  5.56584448e-01\n",
            " -1.40136615e+00  3.51363521e+00 -1.19957579e+00  7.06635704e-01\n",
            "  6.45385110e-01  7.73835614e-01 -9.80251967e-01  3.66789569e-01\n",
            " -6.92584151e-01  2.37455498e+00 -1.73817296e-01  9.18275079e-01\n",
            "  6.56204729e-01 -1.87551869e-01  1.11980563e+00  1.36586317e+00\n",
            " -2.59510119e+00  3.85367041e-01 -4.52184749e-01 -5.77300907e-01\n",
            "  9.59429922e-01  3.60162406e-02  2.19325671e+00  2.52659667e-01\n",
            " -2.15566648e+00  7.54818137e-01  1.00432463e+00  3.59917507e-01\n",
            "  1.39500245e+00 -3.42735272e-01 -7.35182043e-02  2.06153988e+00\n",
            "  2.38588669e+00  7.83212909e-01  3.02110060e-01  1.02343493e+00\n",
            "  1.57788201e+00  2.96628992e-01  1.80801687e-01  2.32830042e+00\n",
            " -6.85292632e-01 -1.20920622e+00  5.74143695e-01  4.01850690e-01\n",
            "  1.72903831e+00 -1.90670008e+00  7.69085172e-01  8.30532634e-01\n",
            " -6.49407116e-02 -8.40760046e-01 -4.63468789e-01  1.76591816e+00\n",
            "  9.73157990e-01 -4.16242754e-01  1.58670295e+00  2.51795752e-01]\n",
            "Optimal lambda: 0.21861812444470607\n"
          ]
        },
        {
          "output_type": "display_data",
          "data": {
            "text/plain": [
              "<Figure size 1200x600 with 2 Axes>"
            ],
            "image/png": "[encoded data removed]"
          },
          "metadata": {}
        }
      ],
      "source": [
        "import numpy as np\n",
        "from scipy import stats\n",
        "import matplotlib.pyplot as plt\n",
        "\n",
        "# Generate some example data\n",
        "data = np.random.exponential(scale=2, size=100)\n",
        "\n",
        "# Apply the Box-Cox transformation to the data\n",
        "transformed_data, lambda_optimal = stats.boxcox(data)\n",
        "\n",
        "# Print the original data\n",
        "print(\"Original Data:\")\n",
        "print(data)\n",
        "\n",
        "# Plot the original and transformed data\n",
        "plt.figure(figsize=(12, 6))\n",
        "\n",
        "plt.subplot(1, 2, 1)\n",
        "plt.hist(data, bins=20, density=True, alpha=0.5, color='blue')\n",
        "plt.title('Original Data')\n",
        "\n",
        "# Print the transformed data\n",
        "print(\"Transformed Data (Box-Cox):\")\n",
        "print(transformed_data)\n",
        "\n",
        "plt.subplot(1, 2, 2)\n",
        "plt.hist(transformed_data, bins=20, density=True, alpha=0.5, color='green')\n",
        "plt.title('Transformed Data (Box-Cox)')\n",
        "\n",
        "# Print the optimal lambda\n",
        "print(f\"Optimal lambda: {lambda_optimal}\")\n",
        "\n",
        "plt.show()\n"
      ]
    },
    {
      "cell_type": "markdown",
      "source": [
        "# 7. Max Abs Scaler:\n"
      ],
      "metadata": {
        "id": "kw3w4bA4fG6v"
      }
    },
    {
      "cell_type": "code",
      "execution_count": 24,
      "metadata": {
        "colab": {
          "base_uri": "https://localhost:8080/"
        },
        "id": "kxtsibe2WoUn",
        "outputId": "5eca4cb2-29ba-48e7-f848-ee0938aa90b6"
      },
      "outputs": [
        {
          "output_type": "stream",
          "name": "stdout",
          "text": [
            "Original Data:\n",
            "[[1.0, -2.0], [4.0, 5.0], [7.0, -8.0]]\n",
            "\n",
            "Max Abs Scaled Data:\n",
            "[[ 0.14285714 -0.25      ]\n",
            " [ 0.57142857  0.625     ]\n",
            " [ 1.         -1.        ]]\n"
          ]
        }
      ],
      "source": [
        "# 7. Max Abs Scaler:\n",
        "\n",
        "# Max Abs Scaler scales features by dividing them by the maximum absolute value of each feature. It's useful when you want to preserve the sign of the data while scaling.\n",
        "\n",
        "# Python code example:\n",
        "\n",
        "# python\n",
        "# Copy code\n",
        "from sklearn.preprocessing import MaxAbsScaler\n",
        "\n",
        "# Sample data\n",
        "data = [[1.0, -2.0],\n",
        "        [4.0, 5.0],\n",
        "        [7.0, -8.0]]\n",
        "\n",
        "scaler = MaxAbsScaler()  # Create a MaxAbsScaler\n",
        "max_abs_scaled_data = scaler.fit_transform(data)\n",
        "\n",
        "print(\"Original Data:\")\n",
        "print(data)\n",
        "print(\"\\nMax Abs Scaled Data:\")\n",
        "print(max_abs_scaled_data)"
      ]
    },
    {
      "cell_type": "markdown",
      "source": [
        "# 8. Custom Scaling:\n"
      ],
      "metadata": {
        "id": "FgAXCtAZfIf3"
      }
    },
    {
      "cell_type": "code",
      "execution_count": 25,
      "metadata": {
        "colab": {
          "base_uri": "https://localhost:8080/"
        },
        "id": "8VHH7CEHZwP_",
        "outputId": "d87fe946-badf-461e-b1db-d0ca0177f448"
      },
      "outputs": [
        {
          "output_type": "stream",
          "name": "stdout",
          "text": [
            "Original Data:\n",
            "[[1. 2.]\n",
            " [4. 5.]\n",
            " [7. 8.]]\n",
            "\n",
            "Custom Scaled Data (Squared):\n",
            "[[ 1.  4.]\n",
            " [16. 25.]\n",
            " [49. 64.]]\n"
          ]
        }
      ],
      "source": [
        "# 8. Custom Scaling:\n",
        "\n",
        "# You can create custom scaling methods to suit your specific needs. For example, you may want to apply a custom function to each feature.\n",
        "\n",
        "# Python code example:\n",
        "\n",
        "# python\n",
        "# Copy code\n",
        "def custom_scaling(data):\n",
        "    return data ** 2  # Squaring the features\n",
        "\n",
        "# Sample data\n",
        "data = np.array([[1.0, 2.0],\n",
        "                 [4.0, 5.0],\n",
        "                 [7.0, 8.0]])\n",
        "\n",
        "custom_scaled_data = custom_scaling(data)\n",
        "\n",
        "print(\"Original Data:\")\n",
        "print(data)\n",
        "print(\"\\nCustom Scaled Data (Squared):\")\n",
        "print(custom_scaled_data)"
      ]
    },
    {
      "cell_type": "markdown",
      "source": [
        "# 9. Max-Min Scaling with a Different Range:\n"
      ],
      "metadata": {
        "id": "jUC2xcqnfJ9u"
      }
    },
    {
      "cell_type": "code",
      "execution_count": 26,
      "metadata": {
        "colab": {
          "base_uri": "https://localhost:8080/"
        },
        "id": "Y8hT5BDOZzyM",
        "outputId": "5c13f929-349d-43b8-814e-49edec55f265"
      },
      "outputs": [
        {
          "output_type": "stream",
          "name": "stdout",
          "text": [
            "Original Data:\n",
            "[[1. 2.]\n",
            " [4. 5.]\n",
            " [7. 8.]]\n",
            "\n",
            "Custom Max-Min Scaled Data:\n",
            "[[ 0.  0.]\n",
            " [ 5.  5.]\n",
            " [10. 10.]]\n"
          ]
        }
      ],
      "source": [
        "# 9. Max-Min Scaling with a Different Range:\n",
        "\n",
        "# While Min-Max scaling typically scales data to the range [0, 1], you can use different ranges depending on your requirements. For example, you can scale the data to a range of [a, b].\n",
        "\n",
        "# In the Max-Min scaling formula:\n",
        "\n",
        "# css\n",
        "# Copy code\n",
        "# X_scaled = (X - X_min) / (X_max - X_min) * (b - a) + a\n",
        "# Python code example:\n",
        "\n",
        "# python\n",
        "# Copy code\n",
        "import numpy as np\n",
        "\n",
        "# Sample data\n",
        "data = np.array([[1.0, 2.0],\n",
        "                 [4.0, 5.0],\n",
        "                 [7.0, 8.0]])\n",
        "\n",
        "# Define the custom range [a, b]\n",
        "a = 0\n",
        "b = 10\n",
        "\n",
        "# Custom Max-Min Scaling\n",
        "scaled_data = (data - data.min(axis=0)) / (data.max(axis=0) - data.min(axis=0)) * (b - a) + a\n",
        "\n",
        "print(\"Original Data:\")\n",
        "print(data)\n",
        "print(\"\\nCustom Max-Min Scaled Data:\")\n",
        "print(scaled_data)"
      ]
    },
    {
      "cell_type": "markdown",
      "source": [
        "# 10. Rank Transformation:\n"
      ],
      "metadata": {
        "id": "MbHCDO8LfLw9"
      }
    },
    {
      "cell_type": "code",
      "execution_count": 27,
      "metadata": {
        "colab": {
          "base_uri": "https://localhost:8080/"
        },
        "id": "mJU0EaPRbeZ5",
        "outputId": "5edbc3e0-b6e1-4dff-f29c-ae53854041ee"
      },
      "outputs": [
        {
          "output_type": "stream",
          "name": "stdout",
          "text": [
            "Original Data:\n",
            "[[1.0, 2.0], [4.0, 5.0], [7.0, 8.0]]\n",
            "\n",
            "Rank Transformed Data:\n",
            "[[-5.19933758 -5.19933758]\n",
            " [ 0.          0.        ]\n",
            " [ 5.19933758  5.19933758]]\n"
          ]
        },
        {
          "output_type": "stream",
          "name": "stderr",
          "text": [
            "/usr/local/lib/python3.10/dist-packages/sklearn/preprocessing/_data.py:2627: UserWarning: n_quantiles (1000) is greater than the total number of samples (3). n_quantiles is set to n_samples.\n",
            "  warnings.warn(\n"
          ]
        }
      ],
      "source": [
        "# 10. Rank Transformation:\n",
        "\n",
        "# Rank transformation converts the values of features into their rank or percentile within the dataset, which can be useful for non-parametric statistics.\n",
        "\n",
        "# Python code example:\n",
        "\n",
        "# python\n",
        "# Copy code\n",
        "from sklearn.preprocessing import QuantileTransformer\n",
        "\n",
        "# Sample data\n",
        "data = [[1.0, 2.0],\n",
        "        [4.0, 5.0],\n",
        "        [7.0, 8.0]]\n",
        "\n",
        "scaler = QuantileTransformer(output_distribution='normal')  # Choose 'normal' for rank transformation\n",
        "rank_transformed_data = scaler.fit_transform(data)\n",
        "\n",
        "print(\"Original Data:\")\n",
        "print(data)\n",
        "print(\"\\nRank Transformed Data:\")\n",
        "print(rank_transformed_data)"
      ]
    },
    {
      "cell_type": "markdown",
      "metadata": {
        "id": "l-Nit7_VfPTE"
      },
      "source": [
        "# Data encoding (one-hot encoding, label encoding) techniques in data pre processing"
      ]
    },
    {
      "cell_type": "markdown",
      "source": [
        "# 1. One-Hot Encoding:\n"
      ],
      "metadata": {
        "id": "-6AXTijIfNpu"
      }
    },
    {
      "cell_type": "code",
      "execution_count": 28,
      "metadata": {
        "colab": {
          "base_uri": "https://localhost:8080/"
        },
        "id": "8eo9Us8sburd",
        "outputId": "fcf3b6fd-f56f-4112-8400-b462f9b0beb7"
      },
      "outputs": [
        {
          "output_type": "stream",
          "name": "stdout",
          "text": [
            "Original Data:\n",
            "   Color\n",
            "0    Red\n",
            "1  Green\n",
            "2   Blue\n",
            "3    Red\n",
            "4  Green\n",
            "\n",
            "One-Hot Encoded Data:\n",
            "   Color_Blue  Color_Green  Color_Red\n",
            "0       False        False       True\n",
            "1       False         True      False\n",
            "2        True        False      False\n",
            "3       False        False       True\n",
            "4       False         True      False\n"
          ]
        }
      ],
      "source": [
        "# 1. One-Hot Encoding:\n",
        "\n",
        "# One-hot encoding is used when you have categorical variables with no ordinal relationship. It creates binary columns for each category and represents the presence or absence of each category as 1s and 0s.\n",
        "\n",
        "# python\n",
        "# Copy code\n",
        "import pandas as pd\n",
        "\n",
        "# Sample dataset with a categorical variable\n",
        "data = pd.DataFrame({'Color': ['Red', 'Green', 'Blue', 'Red', 'Green']})\n",
        "\n",
        "# Apply one-hot encoding\n",
        "one_hot_encoded = pd.get_dummies(data, columns=['Color'], prefix=['Color'])\n",
        "\n",
        "print(\"Original Data:\")\n",
        "print(data)\n",
        "print(\"\\nOne-Hot Encoded Data:\")\n",
        "print(one_hot_encoded)\n",
        "# The get_dummies function in pandas is commonly used for one-hot encoding.\n",
        "# It creates new binary columns for each category in the original column, effectively transforming the categorical data into a\n",
        "#  numerical format suitable for machine learning."
      ]
    },
    {
      "cell_type": "markdown",
      "source": [
        "# 2. Label Encoding:\n"
      ],
      "metadata": {
        "id": "rN49iHn9fPHD"
      }
    },
    {
      "cell_type": "code",
      "execution_count": 29,
      "metadata": {
        "colab": {
          "base_uri": "https://localhost:8080/"
        },
        "id": "RQ3-_hxWmqH5",
        "outputId": "e2d1d820-a331-4eac-b7fb-a939930148ad"
      },
      "outputs": [
        {
          "output_type": "stream",
          "name": "stdout",
          "text": [
            "Original Data:\n",
            "     Size\n",
            "0   Small\n",
            "1  Medium\n",
            "2   Large\n",
            "3  Medium\n",
            "4   Small\n",
            "\n",
            "Label Encoded Data:\n",
            "   Size_LabelEncoded\n",
            "0                  2\n",
            "1                  1\n",
            "2                  0\n",
            "3                  1\n",
            "4                  2\n"
          ]
        }
      ],
      "source": [
        "# 2. Label Encoding:\n",
        "\n",
        "# Label encoding is used when you have categorical variables with an ordinal relationship, meaning there is a specific order\n",
        "# or ranking among the categories. It assigns a unique integer value to each category based on their order.\n",
        "\n",
        "# python\n",
        "# Copy code\n",
        "from sklearn.preprocessing import LabelEncoder\n",
        "\n",
        "# Sample dataset with an ordinal categorical variable\n",
        "data = pd.DataFrame({'Size': ['Small', 'Medium', 'Large', 'Medium', 'Small']})\n",
        "\n",
        "# Create a LabelEncoder\n",
        "label_encoder = LabelEncoder()\n",
        "\n",
        "# Fit and transform the data using label encoding\n",
        "data['Size_LabelEncoded'] = label_encoder.fit_transform(data['Size'])\n",
        "\n",
        "print(\"Original Data:\")\n",
        "print(data[['Size']])\n",
        "print(\"\\nLabel Encoded Data:\")\n",
        "print(data[['Size_LabelEncoded']])\n",
        "\n",
        "# In this example, the label encoder assigns integer values to the categories 'Small', 'Medium', and 'Large' based on their order.\n",
        "#  'Small' is encoded as 2, 'Medium' as 1, and 'Large' as 0. Label encoding is suitable when there is a clear ordinal relationship among the categories."
      ]
    },
    {
      "cell_type": "markdown",
      "source": [
        "# 3. Ordinal Encoding (Custom):\n"
      ],
      "metadata": {
        "id": "U8LimJzkfQwY"
      }
    },
    {
      "cell_type": "code",
      "execution_count": 30,
      "metadata": {
        "colab": {
          "base_uri": "https://localhost:8080/"
        },
        "id": "7JvCr1YQnB4A",
        "outputId": "3f88ae19-0525-484c-a698-62d887fcece3"
      },
      "outputs": [
        {
          "output_type": "stream",
          "name": "stdout",
          "text": [
            "Original Data:\n",
            "     Size\n",
            "0   Small\n",
            "1  Medium\n",
            "2   Large\n",
            "3  Medium\n",
            "4   Small\n",
            "\n",
            "Ordinal Encoded Data:\n",
            "   Size_OrdinalEncoded\n",
            "0                    1\n",
            "1                    2\n",
            "2                    3\n",
            "3                    2\n",
            "4                    1\n"
          ]
        }
      ],
      "source": [
        "# 3. Ordinal Encoding (Custom):\n",
        "# Ordinal encoding assigns custom integer values to categories based on the specific order or meaning.\n",
        "\n",
        "# python\n",
        "# Copy code\n",
        "# Sample dataset with an ordinal categorical variable\n",
        "data = pd.DataFrame({'Size': ['Small', 'Medium', 'Large', 'Medium', 'Small']})\n",
        "\n",
        "# Define a custom mapping\n",
        "size_mapping = {'Small': 1, 'Medium': 2, 'Large': 3}\n",
        "\n",
        "# Apply ordinal encoding using the custom mapping\n",
        "data['Size_OrdinalEncoded'] = data['Size'].map(size_mapping)\n",
        "\n",
        "print(\"Original Data:\")\n",
        "print(data[['Size']])\n",
        "print(\"\\nOrdinal Encoded Data:\")\n",
        "print(data[['Size_OrdinalEncoded']])"
      ]
    },
    {
      "cell_type": "markdown",
      "source": [
        "# 4. Binary Encoding (Category Encoders):\n"
      ],
      "metadata": {
        "id": "QKXHsB72fSMi"
      }
    },
    {
      "cell_type": "code",
      "execution_count": 31,
      "metadata": {
        "colab": {
          "base_uri": "https://localhost:8080/",
          "height": 383
        },
        "id": "RIUItUPZpBWz",
        "outputId": "36dab32b-c213-422e-e07b-8718a56cc482"
      },
      "outputs": [
        {
          "output_type": "error",
          "ename": "ModuleNotFoundError",
          "evalue": "No module named 'category_encoders'",
          "traceback": [
            "\u001b[0;31m---------------------------------------------------------------------------\u001b[0m",
            "\u001b[0;31mModuleNotFoundError\u001b[0m                       Traceback (most recent call last)",
            "\u001b[0;32m<ipython-input-31-61e2638f4123>\u001b[0m in \u001b[0;36m<cell line: 6>\u001b[0;34m()\u001b[0m\n\u001b[1;32m      4\u001b[0m \u001b[0;31m# python\u001b[0m\u001b[0;34m\u001b[0m\u001b[0;34m\u001b[0m\u001b[0m\n\u001b[1;32m      5\u001b[0m \u001b[0;31m# Copy code\u001b[0m\u001b[0;34m\u001b[0m\u001b[0;34m\u001b[0m\u001b[0m\n\u001b[0;32m----> 6\u001b[0;31m \u001b[0;32mimport\u001b[0m \u001b[0mcategory_encoders\u001b[0m \u001b[0;32mas\u001b[0m \u001b[0mce\u001b[0m\u001b[0;34m\u001b[0m\u001b[0;34m\u001b[0m\u001b[0m\n\u001b[0m\u001b[1;32m      7\u001b[0m \u001b[0;34m\u001b[0m\u001b[0m\n\u001b[1;32m      8\u001b[0m \u001b[0;31m# Sample dataset with a categorical variable\u001b[0m\u001b[0;34m\u001b[0m\u001b[0;34m\u001b[0m\u001b[0m\n",
            "\u001b[0;31mModuleNotFoundError\u001b[0m: No module named 'category_encoders'",
            "",
            "\u001b[0;31m---------------------------------------------------------------------------\u001b[0;32m\nNOTE: If your import is failing due to a missing package, you can\nmanually install dependencies using either !pip or !apt.\n\nTo view examples of installing some common dependencies, click the\n\"Open Examples\" button below.\n\u001b[0;31m---------------------------------------------------------------------------\u001b[0m\n"
          ],
          "errorDetails": {
            "actions": [
              {
                "action": "open_url",
                "actionText": "Open Examples",
                "url": "/notebooks/snippets/importing_libraries.ipynb"
              }
            ]
          }
        }
      ],
      "source": [
        "# 4. Binary Encoding (Category Encoders):\n",
        "# Binary encoding combines one-hot encoding and subsequent converting to binary values.\n",
        "\n",
        "# python\n",
        "# Copy code\n",
        "import category_encoders as ce\n",
        "\n",
        "# Sample dataset with a categorical variable\n",
        "data = pd.DataFrame({'Color': ['Red', 'Green', 'Blue', 'Red', 'Green']})\n",
        "\n",
        "# Create a BinaryEncoder\n",
        "binary_encoder = ce.BinaryEncoder(cols=['Color'])\n",
        "\n",
        "# Fit and transform the data using binary encoding\n",
        "binary_encoded = binary_encoder.fit_transform(data)\n",
        "\n",
        "print(\"Original Data:\")\n",
        "print(data)\n",
        "print(\"\\nBinary Encoded Data:\")\n",
        "print(binary_encoded)"
      ]
    },
    {
      "cell_type": "code",
      "execution_count": 32,
      "metadata": {
        "colab": {
          "base_uri": "https://localhost:8080/"
        },
        "id": "ZvsvAyTRqbMM",
        "outputId": "afe4df3d-cef5-410b-f6c5-eeec2934e136"
      },
      "outputs": [
        {
          "output_type": "stream",
          "name": "stdout",
          "text": [
            "Collecting category_encoders\n",
            "  Downloading category_encoders-2.6.3-py2.py3-none-any.whl (81 kB)\n",
            "\u001b[2K     \u001b[90m━━━━━━━━━━━━━━━━━━━━━━━━━━━━━━━━━━━━━━━━\u001b[0m \u001b[32m81.9/81.9 kB\u001b[0m \u001b[31m737.6 kB/s\u001b[0m eta \u001b[36m0:00:00\u001b[0m\n",
            "\u001b[?25hRequirement already satisfied: numpy>=1.14.0 in /usr/local/lib/python3.10/dist-packages (from category_encoders) (1.25.2)\n",
            "Requirement already satisfied: scikit-learn>=0.20.0 in /usr/local/lib/python3.10/dist-packages (from category_encoders) (1.2.2)\n",
            "Requirement already satisfied: scipy>=1.0.0 in /usr/local/lib/python3.10/dist-packages (from category_encoders) (1.11.4)\n",
            "Requirement already satisfied: statsmodels>=0.9.0 in /usr/local/lib/python3.10/dist-packages (from category_encoders) (0.14.2)\n",
            "Requirement already satisfied: pandas>=1.0.5 in /usr/local/lib/python3.10/dist-packages (from category_encoders) (2.0.3)\n",
            "Requirement already satisfied: patsy>=0.5.1 in /usr/local/lib/python3.10/dist-packages (from category_encoders) (0.5.6)\n",
            "Requirement already satisfied: python-dateutil>=2.8.2 in /usr/local/lib/python3.10/dist-packages (from pandas>=1.0.5->category_encoders) (2.8.2)\n",
            "Requirement already satisfied: pytz>=2020.1 in /usr/local/lib/python3.10/dist-packages (from pandas>=1.0.5->category_encoders) (2023.4)\n",
            "Requirement already satisfied: tzdata>=2022.1 in /usr/local/lib/python3.10/dist-packages (from pandas>=1.0.5->category_encoders) (2024.1)\n",
            "Requirement already satisfied: six in /usr/local/lib/python3.10/dist-packages (from patsy>=0.5.1->category_encoders) (1.16.0)\n",
            "Requirement already satisfied: joblib>=1.1.1 in /usr/local/lib/python3.10/dist-packages (from scikit-learn>=0.20.0->category_encoders) (1.4.0)\n",
            "Requirement already satisfied: threadpoolctl>=2.0.0 in /usr/local/lib/python3.10/dist-packages (from scikit-learn>=0.20.0->category_encoders) (3.4.0)\n",
            "Requirement already satisfied: packaging>=21.3 in /usr/local/lib/python3.10/dist-packages (from statsmodels>=0.9.0->category_encoders) (24.0)\n",
            "Installing collected packages: category_encoders\n",
            "Successfully installed category_encoders-2.6.3\n"
          ]
        }
      ],
      "source": [
        "!pip install category_encoders"
      ]
    },
    {
      "cell_type": "markdown",
      "source": [
        "# 5. Frequency (Count) Encoding (Custom):\n"
      ],
      "metadata": {
        "id": "CfHfh6ilfUHI"
      }
    },
    {
      "cell_type": "code",
      "execution_count": 33,
      "metadata": {
        "colab": {
          "base_uri": "https://localhost:8080/"
        },
        "id": "T9WSTm_RrG34",
        "outputId": "afdc98b6-5f86-4d8e-a5b0-791db6f60c45"
      },
      "outputs": [
        {
          "output_type": "stream",
          "name": "stdout",
          "text": [
            "Original Data:\n",
            "  Category\n",
            "0        A\n",
            "1        B\n",
            "2        A\n",
            "3        C\n",
            "4        B\n",
            "5        A\n",
            "6        A\n",
            "7        C\n",
            "\n",
            "Frequency Encoded Data:\n",
            "   Category_Frequency\n",
            "0                   4\n",
            "1                   2\n",
            "2                   4\n",
            "3                   2\n",
            "4                   2\n",
            "5                   4\n",
            "6                   4\n",
            "7                   2\n"
          ]
        }
      ],
      "source": [
        "# 5. Frequency (Count) Encoding (Custom):\n",
        "# Frequency encoding replaces categories with their frequency of occurrence in the dataset.\n",
        "\n",
        "# python\n",
        "# Copy code\n",
        "# Sample dataset with a categorical variable\n",
        "data = pd.DataFrame({'Category': ['A', 'B', 'A', 'C', 'B', 'A', 'A', 'C']})\n",
        "\n",
        "# Calculate frequency counts\n",
        "frequency_map = data['Category'].value_counts().to_dict()\n",
        "\n",
        "# Replace categories with their frequencies\n",
        "data['Category_Frequency'] = data['Category'].map(frequency_map)\n",
        "\n",
        "print(\"Original Data:\")\n",
        "print(data[['Category']])\n",
        "print(\"\\nFrequency Encoded Data:\")\n",
        "print(data[['Category_Frequency']])"
      ]
    },
    {
      "cell_type": "markdown",
      "source": [
        "# 6. Target Encoding (Mean Encoding):\n"
      ],
      "metadata": {
        "id": "KkO799g1fV2f"
      }
    },
    {
      "cell_type": "code",
      "execution_count": 34,
      "metadata": {
        "colab": {
          "base_uri": "https://localhost:8080/"
        },
        "id": "dpVBn4x0uV2p",
        "outputId": "b77bbe06-181a-4df1-8a84-cc5f373a5c20"
      },
      "outputs": [
        {
          "output_type": "stream",
          "name": "stdout",
          "text": [
            "Original Data:\n",
            "  Category  Target\n",
            "0        A       1\n",
            "1        B       0\n",
            "2        A       1\n",
            "3        C       1\n",
            "4        B       0\n",
            "5        A       0\n",
            "6        A       1\n",
            "7        C       0\n",
            "\n",
            "Target Encoded Data:\n",
            "   Category_TargetEncoded\n",
            "0                    0.75\n",
            "1                    0.00\n",
            "2                    0.75\n",
            "3                    0.50\n",
            "4                    0.00\n",
            "5                    0.75\n",
            "6                    0.75\n",
            "7                    0.50\n"
          ]
        }
      ],
      "source": [
        "# 6. Target Encoding (Mean Encoding):\n",
        "# Target encoding involves replacing categories with the mean of the target variable for each category. It is often used for classification tasks.\n",
        "\n",
        "# python\n",
        "# Copy code\n",
        "import pandas as pd\n",
        "\n",
        "# Sample dataset with a categorical variable and target variable\n",
        "data = pd.DataFrame({'Category': ['A', 'B', 'A', 'C', 'B', 'A', 'A', 'C'],\n",
        "                     'Target': [1, 0, 1, 1, 0, 0, 1, 0]})\n",
        "\n",
        "# Calculate the mean target value for each category\n",
        "target_means = data.groupby('Category')['Target'].mean().to_dict()\n",
        "\n",
        "# Replace categories with their mean target values\n",
        "data['Category_TargetEncoded'] = data['Category'].map(target_means)\n",
        "\n",
        "print(\"Original Data:\")\n",
        "print(data[['Category', 'Target']])\n",
        "print(\"\\nTarget Encoded Data:\")\n",
        "print(data[['Category_TargetEncoded']])"
      ]
    },
    {
      "cell_type": "markdown",
      "source": [
        "# 7. Helmert Encoding (Category Encoders):\n"
      ],
      "metadata": {
        "id": "r12BcZILfXU0"
      }
    },
    {
      "cell_type": "code",
      "execution_count": 35,
      "metadata": {
        "colab": {
          "base_uri": "https://localhost:8080/"
        },
        "id": "lxLb9xtQuy6T",
        "outputId": "8ff8bf26-e7a6-45cf-fdd8-df7a3d335504"
      },
      "outputs": [
        {
          "output_type": "stream",
          "name": "stdout",
          "text": [
            "Original Data:\n",
            "  Category\n",
            "0        A\n",
            "1        B\n",
            "2        A\n",
            "3        C\n",
            "4        B\n",
            "5        A\n",
            "6        A\n",
            "7        C\n",
            "\n",
            "Helmert Encoded Data:\n",
            "   intercept  Category_0  Category_1\n",
            "0          1        -1.0        -1.0\n",
            "1          1         1.0        -1.0\n",
            "2          1        -1.0        -1.0\n",
            "3          1         0.0         2.0\n",
            "4          1         1.0        -1.0\n",
            "5          1        -1.0        -1.0\n",
            "6          1        -1.0        -1.0\n",
            "7          1         0.0         2.0\n"
          ]
        },
        {
          "output_type": "stream",
          "name": "stderr",
          "text": [
            "/usr/local/lib/python3.10/dist-packages/category_encoders/base_contrast_encoder.py:126: FutureWarning: Intercept column might not be added anymore in future releases (c.f. issue #370)\n",
            "  warnings.warn(\"Intercept column might not be added anymore in future releases (c.f. issue #370)\",\n",
            "/usr/local/lib/python3.10/dist-packages/category_encoders/base_contrast_encoder.py:126: FutureWarning: Intercept column might not be added anymore in future releases (c.f. issue #370)\n",
            "  warnings.warn(\"Intercept column might not be added anymore in future releases (c.f. issue #370)\",\n"
          ]
        }
      ],
      "source": [
        "# 7. Helmert Encoding (Category Encoders):\n",
        "# Helmert encoding compares each level of a categorical variable to the mean of the subsequent levels.\n",
        "\n",
        "# python\n",
        "# Copy code\n",
        "import category_encoders as ce\n",
        "\n",
        "# Sample dataset with a categorical variable\n",
        "data = pd.DataFrame({'Category': ['A', 'B', 'A', 'C', 'B', 'A', 'A', 'C']})\n",
        "\n",
        "# Create a HelmertEncoder\n",
        "helmert_encoder = ce.HelmertEncoder(cols=['Category'])\n",
        "\n",
        "# Fit and transform the data using Helmert encoding\n",
        "helmert_encoded = helmert_encoder.fit_transform(data)\n",
        "\n",
        "print(\"Original Data:\")\n",
        "print(data)\n",
        "print(\"\\nHelmert Encoded Data:\")\n",
        "print(helmert_encoded)"
      ]
    },
    {
      "cell_type": "markdown",
      "source": [
        "# 8. Binary Target Encoding (CatBoost Encoding):\n"
      ],
      "metadata": {
        "id": "fpNyDq1nfZO4"
      }
    },
    {
      "cell_type": "code",
      "execution_count": 36,
      "metadata": {
        "colab": {
          "base_uri": "https://localhost:8080/"
        },
        "id": "AmtjFvgQwdPW",
        "outputId": "1e4a165b-3871-4ede-ad4f-bbe1c2b695e3"
      },
      "outputs": [
        {
          "output_type": "stream",
          "name": "stdout",
          "text": [
            "Original Data:\n",
            "  Category  Target\n",
            "0        A       1\n",
            "1        B       0\n",
            "2        A       1\n",
            "3        B       1\n",
            "4        A       0\n",
            "\n",
            "CatBoost Encoded Data:\n",
            "   Category  Target\n",
            "0  0.600000       1\n",
            "1  0.600000       0\n",
            "2  0.800000       1\n",
            "3  0.300000       1\n",
            "4  0.866667       0\n"
          ]
        }
      ],
      "source": [
        "# 8. Binary Target Encoding (CatBoost Encoding):\n",
        "# Binary target encoding is similar to target encoding but is specifically designed for binary classification tasks. It considers the fraction of positive instances in each category.\n",
        "\n",
        "# python\n",
        "# Copy code\n",
        "import category_encoders as ce\n",
        "\n",
        "# Sample dataset with a categorical variable and binary target\n",
        "data = pd.DataFrame({'Category': ['A', 'B', 'A', 'B', 'A'],\n",
        "                     'Target': [1, 0, 1, 1, 0]})\n",
        "\n",
        "# Create a CatBoostEncoder\n",
        "catboost_encoder = ce.CatBoostEncoder(cols=['Category'])\n",
        "\n",
        "# Fit and transform the data using CatBoost encoding\n",
        "catboost_encoded = catboost_encoder.fit_transform(data, data['Target'])\n",
        "\n",
        "print(\"Original Data:\")\n",
        "print(data)\n",
        "print(\"\\nCatBoost Encoded Data:\")\n",
        "print(catboost_encoded)"
      ]
    },
    {
      "cell_type": "markdown",
      "source": [
        "# 9. Leave-One-Out Encoding (LOO Encoding):\n"
      ],
      "metadata": {
        "id": "HdZN5bXnfa7u"
      }
    },
    {
      "cell_type": "code",
      "execution_count": 37,
      "metadata": {
        "colab": {
          "base_uri": "https://localhost:8080/"
        },
        "id": "xna7iMvfxXfO",
        "outputId": "235ba35b-e30f-4441-f7f8-8c7d9608046a"
      },
      "outputs": [
        {
          "output_type": "stream",
          "name": "stdout",
          "text": [
            "Original Data:\n",
            "  Category  Target\n",
            "0        A       5\n",
            "1        B       6\n",
            "2        A       7\n",
            "3        B       8\n",
            "4        A       9\n",
            "\n",
            "Leave-One-Out Encoded Data:\n",
            "   Category  Target\n",
            "0       8.0       5\n",
            "1       8.0       6\n",
            "2       7.0       7\n",
            "3       6.0       8\n",
            "4       6.0       9\n"
          ]
        }
      ],
      "source": [
        "# 9. Leave-One-Out Encoding (LOO Encoding):\n",
        "# Leave-One-Out encoding calculates the mean of the target variable without the current observation, providing a robust encoding for regression tasks.\n",
        "\n",
        "# python\n",
        "# Copy code\n",
        "import category_encoders as ce\n",
        "\n",
        "# Sample dataset with a categorical variable and target values\n",
        "data = pd.DataFrame({'Category': ['A', 'B', 'A', 'B', 'A'],\n",
        "                     'Target': [5, 6, 7, 8, 9]})\n",
        "\n",
        "# Create a LeaveOneOutEncoder\n",
        "loo_encoder = ce.LeaveOneOutEncoder(cols=['Category'])\n",
        "\n",
        "# Fit and transform the data using LOO encoding\n",
        "loo_encoded = loo_encoder.fit_transform(data, data['Target'])\n",
        "\n",
        "print(\"Original Data:\")\n",
        "print(data)\n",
        "print(\"\\nLeave-One-Out Encoded Data:\")\n",
        "print(loo_encoded)"
      ]
    },
    {
      "cell_type": "markdown",
      "source": [
        "# 8. Sum Encoding:\n"
      ],
      "metadata": {
        "id": "VY1mMK8UfcZT"
      }
    },
    {
      "cell_type": "code",
      "execution_count": 38,
      "metadata": {
        "colab": {
          "base_uri": "https://localhost:8080/"
        },
        "id": "2hSV0s6txu54",
        "outputId": "8b4a386b-14fc-4cec-8cf5-943ad1198cc0"
      },
      "outputs": [
        {
          "output_type": "stream",
          "name": "stdout",
          "text": [
            "Original Data:\n",
            "   Color\n",
            "0    Red\n",
            "1  Green\n",
            "2   Blue\n",
            "3    Red\n",
            "4  Green\n",
            "\n",
            "Sum Encoded Data:\n",
            "   intercept  Color_0  Color_1\n",
            "0          1      1.0      0.0\n",
            "1          1      0.0      1.0\n",
            "2          1     -1.0     -1.0\n",
            "3          1      1.0      0.0\n",
            "4          1      0.0      1.0\n"
          ]
        },
        {
          "output_type": "stream",
          "name": "stderr",
          "text": [
            "/usr/local/lib/python3.10/dist-packages/category_encoders/base_contrast_encoder.py:126: FutureWarning: Intercept column might not be added anymore in future releases (c.f. issue #370)\n",
            "  warnings.warn(\"Intercept column might not be added anymore in future releases (c.f. issue #370)\",\n",
            "/usr/local/lib/python3.10/dist-packages/category_encoders/base_contrast_encoder.py:126: FutureWarning: Intercept column might not be added anymore in future releases (c.f. issue #370)\n",
            "  warnings.warn(\"Intercept column might not be added anymore in future releases (c.f. issue #370)\",\n"
          ]
        }
      ],
      "source": [
        "# 8. Sum Encoding:\n",
        "# Sum encoding compares each level of a categorical variable to the mean of all other levels. It is a way of encoding effects for nominal variables and can be useful in regression analysis.\n",
        "\n",
        "# python\n",
        "# Copy code\n",
        "import category_encoders as ce\n",
        "\n",
        "# Sample dataset with a categorical variable\n",
        "data = pd.DataFrame({'Color': ['Red', 'Green', 'Blue', 'Red', 'Green']})\n",
        "\n",
        "# Create a SumEncoder\n",
        "sum_encoder = ce.SumEncoder(cols=['Color'])\n",
        "\n",
        "# Fit and transform the data using Sum encoding\n",
        "sum_encoded = sum_encoder.fit_transform(data)\n",
        "\n",
        "print(\"Original Data:\")\n",
        "print(data)\n",
        "print(\"\\nSum Encoded Data:\")\n",
        "print(sum_encoded)"
      ]
    },
    {
      "cell_type": "markdown",
      "source": [
        "# 9. Frequency Ratio Encoding:\n"
      ],
      "metadata": {
        "id": "3D_It-NRfeFR"
      }
    },
    {
      "cell_type": "code",
      "execution_count": 39,
      "metadata": {
        "colab": {
          "base_uri": "https://localhost:8080/"
        },
        "id": "OBg0kT1jyZ-P",
        "outputId": "6f856e43-d51b-4504-cc62-d72559650d8d"
      },
      "outputs": [
        {
          "output_type": "stream",
          "name": "stdout",
          "text": [
            "Original Data:\n",
            "  Category\n",
            "0        A\n",
            "1        B\n",
            "2        A\n",
            "3        B\n",
            "4        A\n",
            "5        B\n",
            "\n",
            "Frequency Ratio Encoded Data:\n",
            "   Category_FrequencyRatio\n",
            "0                      1.0\n",
            "1                      1.0\n",
            "2                      1.0\n",
            "3                      1.0\n",
            "4                      1.0\n",
            "5                      1.0\n"
          ]
        }
      ],
      "source": [
        "# 9. Frequency Ratio Encoding:\n",
        "# Frequency ratio encoding calculates the ratio of the frequency of a category to the frequency of another category\n",
        "#  (often the most frequent category) in the same variable.\n",
        "\n",
        "# python\n",
        "# Copy code\n",
        "import pandas as pd\n",
        "\n",
        "# Sample dataset with a categorical variable\n",
        "data = pd.DataFrame({'Category': ['A', 'B', 'A', 'B', 'A', 'B']})\n",
        "\n",
        "# Calculate the frequency ratio to the most frequent category\n",
        "most_frequent = data['Category'].mode()[0]\n",
        "data['Category_FrequencyRatio'] = data['Category'].apply(lambda x: data['Category'].value_counts()[x] / data['Category'].value_counts()[most_frequent])\n",
        "\n",
        "print(\"Original Data:\")\n",
        "print(data[['Category']])\n",
        "print(\"\\nFrequency Ratio Encoded Data:\")\n",
        "print(data[['Category_FrequencyRatio']])"
      ]
    },
    {
      "cell_type": "markdown",
      "metadata": {
        "id": "lMpvDEiyMd9H"
      },
      "source": [
        "# Linear Regression:\n",
        "\n",
        "Simple linear regression.\n",
        "Multiple linear regression.\n",
        "Model evaluation and metrics (mean squared error, R-squared).\""
      ]
    },
    {
      "cell_type": "markdown",
      "source": [
        "# 1. Simple Linear Regression:\n"
      ],
      "metadata": {
        "id": "3DBPW_xefgHh"
      }
    },
    {
      "cell_type": "code",
      "execution_count": 40,
      "metadata": {
        "colab": {
          "base_uri": "https://localhost:8080/"
        },
        "id": "SerrkZD_THM2",
        "outputId": "b5ecf109-09dc-4642-e345-b19583051d48"
      },
      "outputs": [
        {
          "output_type": "stream",
          "name": "stdout",
          "text": [
            "Slope (Coefficient): [0.6]\n",
            "Intercept: 2.2\n",
            "Rank of matrix X: 1\n",
            "Singular Values of X: [3.16227766]\n",
            "Number of Features Seen: 1\n",
            "Feature Names Seen: 1\n",
            "Mean Squared Error (MSE): 0.47999999999999987\n",
            "R-squared (R2): 0.6000000000000001\n"
          ]
        }
      ],
      "source": [
        "# 1. Simple Linear Regression:\n",
        "\n",
        "# Simple linear regression is used when you want to establish a linear relationship between a single independent variable (predictor) and a dependent variable (target). The model's equation is represented as y = mx + b, where y is the target variable, x is the predictor variable, m is the slope, and b is the intercept.\n",
        "\n",
        "# python\n",
        "# Copy code\n",
        "import numpy as np\n",
        "from sklearn.linear_model import LinearRegression\n",
        "from sklearn.metrics import mean_squared_error, r2_score\n",
        "\n",
        "# Generate a sample dataset\n",
        "X = np.array([1, 2, 3, 4, 5]).reshape(-1, 1)\n",
        "y = np.array([2, 4, 5, 4, 5])\n",
        "\n",
        "# Create a LinearRegression model\n",
        "model = LinearRegression(fit_intercept=True, copy_X=True, n_jobs=None, positive=False)\n",
        "\n",
        "# Fit the model to the data\n",
        "model.fit(X, y)\n",
        "\n",
        "# Model attributes\n",
        "slope = model.coef_\n",
        "intercept = model.intercept_\n",
        "rank = model.rank_\n",
        "singular_values = model.singular_\n",
        "n_features_in = model.n_features_in_\n",
        "feature_names_in = model.n_features_in_\n",
        "\n",
        "# Make predictions\n",
        "y_pred = model.predict(X)\n",
        "\n",
        "# Model evaluation metrics\n",
        "mse = mean_squared_error(y, y_pred)\n",
        "r2 = r2_score(y, y_pred)\n",
        "\n",
        "print(f\"Slope (Coefficient): {slope}\")\n",
        "print(f\"Intercept: {intercept}\")\n",
        "print(f\"Rank of matrix X: {rank}\")\n",
        "print(f\"Singular Values of X: {singular_values}\")\n",
        "print(f\"Number of Features Seen: {n_features_in}\")\n",
        "print(f\"Feature Names Seen: {feature_names_in}\")\n",
        "print(f\"Mean Squared Error (MSE): {mse}\")\n",
        "print(f\"R-squared (R2): {r2}\")\n"
      ]
    },
    {
      "cell_type": "code",
      "execution_count": 41,
      "metadata": {
        "colab": {
          "base_uri": "https://localhost:8080/"
        },
        "id": "olWwcTi0hbOf",
        "outputId": "990b202e-578c-4377-bd01-29c70833bf52"
      },
      "outputs": [
        {
          "output_type": "stream",
          "name": "stdout",
          "text": [
            "LinearRegression()\n",
            "Predictions: [2.8 3.4 4.  4.6 5.2]\n",
            "R-squared (R2): 0.6000000000000001\n",
            "Model Parameters:\n",
            "{'copy_X': True, 'fit_intercept': True, 'n_jobs': None, 'positive': False}\n",
            "Fit intercept set to False.\n"
          ]
        }
      ],
      "source": [
        "import numpy as np\n",
        "from sklearn.linear_model import LinearRegression\n",
        "from sklearn.metrics import mean_squared_error, r2_score\n",
        "\n",
        "# Generate a sample dataset\n",
        "X = np.array([1, 2, 3, 4, 5]).reshape(-1, 1)\n",
        "y = np.array([2, 4, 5, 4, 5])\n",
        "\n",
        "# Create a LinearRegression model\n",
        "model = LinearRegression(fit_intercept=True, copy_X=True, n_jobs=None, positive=False)\n",
        "\n",
        "# Fit the model to the data\n",
        "print(model.fit(X, y))\n",
        "\n",
        "# Method: predict(X)\n",
        "# Predict using the linear model.\n",
        "# X: Samples to predict.\n",
        "y_pred = model.predict(X)\n",
        "print(\"Predictions:\", y_pred)\n",
        "\n",
        "# Method: score(X, y, sample_weight=None)\n",
        "# Return the coefficient of determination (R-squared) of the prediction.\n",
        "# X: Test samples.\n",
        "# y: True values for X.\n",
        "# sample_weight: Sample weights.\n",
        "r2 = model.score(X, y)\n",
        "print(\"R-squared (R2):\", r2)\n",
        "\n",
        "# Method: get_params(deep=True)\n",
        "# Get parameters for this estimator.\n",
        "# deep: If True, return parameters for nested objects as well.\n",
        "params = model.get_params(deep=True)\n",
        "print(\"Model Parameters:\")\n",
        "print(params)\n",
        "\n",
        "# Method: set_params(**params)\n",
        "# Set the parameters of this estimator.\n",
        "# **params: Estimator parameters to set.\n",
        "model.set_params(fit_intercept=False)  # Set fit_intercept to False\n",
        "print(\"Fit intercept set to False.\",)\n",
        "\n",
        "# Method: set_fit_request(sample_weight=None)\n",
        "# Request metadata passed to the fit method.\n",
        "# Relevant if enable_metadata_routing=True (metadata routing mechanism).\n",
        "# sample_weight: Metadata routing for sample_weight parameter in fit.\n",
        "# model.set_fit_request(sample_weight=True)\n",
        "# print(\"Metadata routing requested for sample_weight in fit.\")\n",
        "\n",
        "# Method: set_score_request(sample_weight=None)\n",
        "# Request metadata passed to the score method.\n",
        "# Relevant if enable_metadata_routing=True (metadata routing mechanism).\n",
        "# sample_weight: Metadata routing for sample_weight parameter in score.\n",
        "# model.set_score_request(sample_weight=True)\n",
        "# print(\"Metadata routing requested for sample_weight in score.\")\n"
      ]
    },
    {
      "cell_type": "markdown",
      "source": [
        "\"\"# 2. Multiple Linear Regression:\n"
      ],
      "metadata": {
        "id": "tuQPFDaEfjPi"
      }
    },
    {
      "cell_type": "code",
      "execution_count": 42,
      "metadata": {
        "colab": {
          "base_uri": "https://localhost:8080/"
        },
        "id": "DCbkaxgrTJto",
        "outputId": "dbbf1416-3acf-40d1-accb-0eefb514ec0b"
      },
      "outputs": [
        {
          "output_type": "stream",
          "name": "stdout",
          "text": [
            "Coefficients: [0.2 0.2 0.2]\n",
            "Intercept: 1.600000000000001\n"
          ]
        }
      ],
      "source": [
        "\"\"# 2. Multiple Linear Regression:\n",
        "\n",
        "# Multiple linear regression extends simple linear regression to model the relationship between multiple independent variables and a dependent variable. The model's equation is represented as y = b0 + b1*x1 + b2*x2 + ... + bn*xn, where y is the target variable, x1, x2, ..., xn are the predictor variables, and b0, b1, b2, ..., bn are the model coefficients.\n",
        "\n",
        "# python\n",
        "# Copy code\n",
        "import numpy as np\n",
        "from sklearn.linear_model import LinearRegression\n",
        "\n",
        "# Sample data\n",
        "X = np.array([[1, 2, 3],\n",
        "              [2, 3, 4],\n",
        "              [3, 4, 5],\n",
        "              [4, 5, 6],\n",
        "              [5, 6, 7]])\n",
        "y = np.array([2, 4, 5, 4, 5])\n",
        "\n",
        "# Create a multiple linear regression model\n",
        "model = LinearRegression()\n",
        "\n",
        "# Fit the model to the data\n",
        "model.fit(X, y)\n",
        "\n",
        "# Model parameters\n",
        "coefficients = model.coef_\n",
        "intercept = model.intercept_\n",
        "\n",
        "print(f\"Coefficients: {coefficients}\")\n",
        "print(f\"Intercept: {intercept}\")"
      ]
    },
    {
      "cell_type": "code",
      "execution_count": 43,
      "metadata": {
        "colab": {
          "base_uri": "https://localhost:8080/",
          "height": 356
        },
        "id": "gVcVVq1VUUbY",
        "outputId": "d990a53a-07f9-4bfb-8157-707c53ce4e6b"
      },
      "outputs": [
        {
          "output_type": "error",
          "ename": "FileNotFoundError",
          "evalue": "[Errno 2] No such file or directory: '/content/bank-additional-full.csv'",
          "traceback": [
            "\u001b[0;31m---------------------------------------------------------------------------\u001b[0m",
            "\u001b[0;31mFileNotFoundError\u001b[0m                         Traceback (most recent call last)",
            "\u001b[0;32m<ipython-input-43-f77b7e25a1c7>\u001b[0m in \u001b[0;36m<cell line: 8>\u001b[0;34m()\u001b[0m\n\u001b[1;32m      6\u001b[0m \u001b[0;34m\u001b[0m\u001b[0m\n\u001b[1;32m      7\u001b[0m \u001b[0;31m# Load the dataset with the specified delimiter\u001b[0m\u001b[0;34m\u001b[0m\u001b[0;34m\u001b[0m\u001b[0m\n\u001b[0;32m----> 8\u001b[0;31m \u001b[0mdata\u001b[0m \u001b[0;34m=\u001b[0m \u001b[0mpd\u001b[0m\u001b[0;34m.\u001b[0m\u001b[0mread_csv\u001b[0m\u001b[0;34m(\u001b[0m\u001b[0;34m'/content/bank-additional-full.csv'\u001b[0m\u001b[0;34m,\u001b[0m \u001b[0msep\u001b[0m\u001b[0;34m=\u001b[0m\u001b[0;34m';'\u001b[0m\u001b[0;34m)\u001b[0m\u001b[0;34m\u001b[0m\u001b[0;34m\u001b[0m\u001b[0m\n\u001b[0m\u001b[1;32m      9\u001b[0m \u001b[0;34m\u001b[0m\u001b[0m\n\u001b[1;32m     10\u001b[0m \u001b[0;31m# Display the first few rows of the dataset to get an overview\u001b[0m\u001b[0;34m\u001b[0m\u001b[0;34m\u001b[0m\u001b[0m\n",
            "\u001b[0;32m/usr/local/lib/python3.10/dist-packages/pandas/io/parsers/readers.py\u001b[0m in \u001b[0;36mread_csv\u001b[0;34m(filepath_or_buffer, sep, delimiter, header, names, index_col, usecols, dtype, engine, converters, true_values, false_values, skipinitialspace, skiprows, skipfooter, nrows, na_values, keep_default_na, na_filter, verbose, skip_blank_lines, parse_dates, infer_datetime_format, keep_date_col, date_parser, date_format, dayfirst, cache_dates, iterator, chunksize, compression, thousands, decimal, lineterminator, quotechar, quoting, doublequote, escapechar, comment, encoding, encoding_errors, dialect, on_bad_lines, delim_whitespace, low_memory, memory_map, float_precision, storage_options, dtype_backend)\u001b[0m\n\u001b[1;32m    910\u001b[0m     \u001b[0mkwds\u001b[0m\u001b[0;34m.\u001b[0m\u001b[0mupdate\u001b[0m\u001b[0;34m(\u001b[0m\u001b[0mkwds_defaults\u001b[0m\u001b[0;34m)\u001b[0m\u001b[0;34m\u001b[0m\u001b[0;34m\u001b[0m\u001b[0m\n\u001b[1;32m    911\u001b[0m \u001b[0;34m\u001b[0m\u001b[0m\n\u001b[0;32m--> 912\u001b[0;31m     \u001b[0;32mreturn\u001b[0m \u001b[0m_read\u001b[0m\u001b[0;34m(\u001b[0m\u001b[0mfilepath_or_buffer\u001b[0m\u001b[0;34m,\u001b[0m \u001b[0mkwds\u001b[0m\u001b[0;34m)\u001b[0m\u001b[0;34m\u001b[0m\u001b[0;34m\u001b[0m\u001b[0m\n\u001b[0m\u001b[1;32m    913\u001b[0m \u001b[0;34m\u001b[0m\u001b[0m\n\u001b[1;32m    914\u001b[0m \u001b[0;34m\u001b[0m\u001b[0m\n",
            "\u001b[0;32m/usr/local/lib/python3.10/dist-packages/pandas/io/parsers/readers.py\u001b[0m in \u001b[0;36m_read\u001b[0;34m(filepath_or_buffer, kwds)\u001b[0m\n\u001b[1;32m    575\u001b[0m \u001b[0;34m\u001b[0m\u001b[0m\n\u001b[1;32m    576\u001b[0m     \u001b[0;31m# Create the parser.\u001b[0m\u001b[0;34m\u001b[0m\u001b[0;34m\u001b[0m\u001b[0m\n\u001b[0;32m--> 577\u001b[0;31m     \u001b[0mparser\u001b[0m \u001b[0;34m=\u001b[0m \u001b[0mTextFileReader\u001b[0m\u001b[0;34m(\u001b[0m\u001b[0mfilepath_or_buffer\u001b[0m\u001b[0;34m,\u001b[0m \u001b[0;34m**\u001b[0m\u001b[0mkwds\u001b[0m\u001b[0;34m)\u001b[0m\u001b[0;34m\u001b[0m\u001b[0;34m\u001b[0m\u001b[0m\n\u001b[0m\u001b[1;32m    578\u001b[0m \u001b[0;34m\u001b[0m\u001b[0m\n\u001b[1;32m    579\u001b[0m     \u001b[0;32mif\u001b[0m \u001b[0mchunksize\u001b[0m \u001b[0;32mor\u001b[0m \u001b[0miterator\u001b[0m\u001b[0;34m:\u001b[0m\u001b[0;34m\u001b[0m\u001b[0;34m\u001b[0m\u001b[0m\n",
            "\u001b[0;32m/usr/local/lib/python3.10/dist-packages/pandas/io/parsers/readers.py\u001b[0m in \u001b[0;36m__init__\u001b[0;34m(self, f, engine, **kwds)\u001b[0m\n\u001b[1;32m   1405\u001b[0m \u001b[0;34m\u001b[0m\u001b[0m\n\u001b[1;32m   1406\u001b[0m         \u001b[0mself\u001b[0m\u001b[0;34m.\u001b[0m\u001b[0mhandles\u001b[0m\u001b[0;34m:\u001b[0m \u001b[0mIOHandles\u001b[0m \u001b[0;34m|\u001b[0m \u001b[0;32mNone\u001b[0m \u001b[0;34m=\u001b[0m \u001b[0;32mNone\u001b[0m\u001b[0;34m\u001b[0m\u001b[0;34m\u001b[0m\u001b[0m\n\u001b[0;32m-> 1407\u001b[0;31m         \u001b[0mself\u001b[0m\u001b[0;34m.\u001b[0m\u001b[0m_engine\u001b[0m \u001b[0;34m=\u001b[0m \u001b[0mself\u001b[0m\u001b[0;34m.\u001b[0m\u001b[0m_make_engine\u001b[0m\u001b[0;34m(\u001b[0m\u001b[0mf\u001b[0m\u001b[0;34m,\u001b[0m \u001b[0mself\u001b[0m\u001b[0;34m.\u001b[0m\u001b[0mengine\u001b[0m\u001b[0;34m)\u001b[0m\u001b[0;34m\u001b[0m\u001b[0;34m\u001b[0m\u001b[0m\n\u001b[0m\u001b[1;32m   1408\u001b[0m \u001b[0;34m\u001b[0m\u001b[0m\n\u001b[1;32m   1409\u001b[0m     \u001b[0;32mdef\u001b[0m \u001b[0mclose\u001b[0m\u001b[0;34m(\u001b[0m\u001b[0mself\u001b[0m\u001b[0;34m)\u001b[0m \u001b[0;34m->\u001b[0m \u001b[0;32mNone\u001b[0m\u001b[0;34m:\u001b[0m\u001b[0;34m\u001b[0m\u001b[0;34m\u001b[0m\u001b[0m\n",
            "\u001b[0;32m/usr/local/lib/python3.10/dist-packages/pandas/io/parsers/readers.py\u001b[0m in \u001b[0;36m_make_engine\u001b[0;34m(self, f, engine)\u001b[0m\n\u001b[1;32m   1659\u001b[0m                 \u001b[0;32mif\u001b[0m \u001b[0;34m\"b\"\u001b[0m \u001b[0;32mnot\u001b[0m \u001b[0;32min\u001b[0m \u001b[0mmode\u001b[0m\u001b[0;34m:\u001b[0m\u001b[0;34m\u001b[0m\u001b[0;34m\u001b[0m\u001b[0m\n\u001b[1;32m   1660\u001b[0m                     \u001b[0mmode\u001b[0m \u001b[0;34m+=\u001b[0m \u001b[0;34m\"b\"\u001b[0m\u001b[0;34m\u001b[0m\u001b[0;34m\u001b[0m\u001b[0m\n\u001b[0;32m-> 1661\u001b[0;31m             self.handles = get_handle(\n\u001b[0m\u001b[1;32m   1662\u001b[0m                 \u001b[0mf\u001b[0m\u001b[0;34m,\u001b[0m\u001b[0;34m\u001b[0m\u001b[0;34m\u001b[0m\u001b[0m\n\u001b[1;32m   1663\u001b[0m                 \u001b[0mmode\u001b[0m\u001b[0;34m,\u001b[0m\u001b[0;34m\u001b[0m\u001b[0;34m\u001b[0m\u001b[0m\n",
            "\u001b[0;32m/usr/local/lib/python3.10/dist-packages/pandas/io/common.py\u001b[0m in \u001b[0;36mget_handle\u001b[0;34m(path_or_buf, mode, encoding, compression, memory_map, is_text, errors, storage_options)\u001b[0m\n\u001b[1;32m    857\u001b[0m         \u001b[0;32mif\u001b[0m \u001b[0mioargs\u001b[0m\u001b[0;34m.\u001b[0m\u001b[0mencoding\u001b[0m \u001b[0;32mand\u001b[0m \u001b[0;34m\"b\"\u001b[0m \u001b[0;32mnot\u001b[0m \u001b[0;32min\u001b[0m \u001b[0mioargs\u001b[0m\u001b[0;34m.\u001b[0m\u001b[0mmode\u001b[0m\u001b[0;34m:\u001b[0m\u001b[0;34m\u001b[0m\u001b[0;34m\u001b[0m\u001b[0m\n\u001b[1;32m    858\u001b[0m             \u001b[0;31m# Encoding\u001b[0m\u001b[0;34m\u001b[0m\u001b[0;34m\u001b[0m\u001b[0m\n\u001b[0;32m--> 859\u001b[0;31m             handle = open(\n\u001b[0m\u001b[1;32m    860\u001b[0m                 \u001b[0mhandle\u001b[0m\u001b[0;34m,\u001b[0m\u001b[0;34m\u001b[0m\u001b[0;34m\u001b[0m\u001b[0m\n\u001b[1;32m    861\u001b[0m                 \u001b[0mioargs\u001b[0m\u001b[0;34m.\u001b[0m\u001b[0mmode\u001b[0m\u001b[0;34m,\u001b[0m\u001b[0;34m\u001b[0m\u001b[0;34m\u001b[0m\u001b[0m\n",
            "\u001b[0;31mFileNotFoundError\u001b[0m: [Errno 2] No such file or directory: '/content/bank-additional-full.csv'"
          ]
        }
      ],
      "source": [
        "# Import necessary libraries\n",
        "import pandas as pd\n",
        "import numpy as np\n",
        "import matplotlib.pyplot as plt\n",
        "import seaborn as sns\n",
        "\n",
        "# Load the dataset with the specified delimiter\n",
        "data = pd.read_csv('/content/bank-additional-full.csv', sep=';')\n",
        "\n",
        "# Display the first few rows of the dataset to get an overview\n",
        "print(data.head())\n",
        "\n",
        "# Get basic statistics of numeric columns\n",
        "print(data.describe())\n",
        "\n",
        "# Check for missing values\n",
        "print(data.isnull().sum())\n",
        "\n",
        "# Replace 'unknown' values with NaN in categorical columns\n",
        "categorical_columns = [\"job\", \"marital\", \"education\", \"default\", \"housing\", \"loan\", \"contact\", \"month\", \"day_of_week\", \"poutcome\"]\n",
        "data[categorical_columns] = data[categorical_columns].replace('unknown', np.nan)\n",
        "\n",
        "# Handle missing values (you can choose different strategies for imputation)\n",
        "data.fillna(method='ffill', inplace=True)  # Forward fill missing values\n",
        "\n",
        "# Encode categorical variables using one-hot encoding\n",
        "data = pd.get_dummies(data, columns=categorical_columns, drop_first=True)\n",
        "\n",
        "# Map the target variable to binary values\n",
        "data['y'] = data['y'].map({'yes': 1, 'no': 0})\n",
        "\n",
        "# Correlation matrix\n",
        "correlation_matrix = data.corr()\n",
        "plt.figure(figsize=(12, 8))\n",
        "sns.heatmap(correlation_matrix, annot=True, cmap='coolwarm')\n",
        "plt.title('Correlation Matrix')\n",
        "plt.show()\n",
        "\n",
        "# Pairplot for some important features\n",
        "sns.pairplot(data[['age', 'duration', 'campaign', 'pdays', 'previous', 'y']], hue='y', palette='husl')\n",
        "plt.title('Pairplot of Features')\n",
        "plt.show()\n",
        "\n",
        "# Analysis of the target variable\n",
        "sns.countplot(x='y', data=data)\n",
        "plt.title('Distribution of Subscribed vs. Not Subscribed')\n",
        "plt.show()\n"
      ]
    },
    {
      "cell_type": "markdown",
      "source": [
        "# Model evaluation and metrics"
      ],
      "metadata": {
        "id": "YLcQ8LGposw0"
      }
    },
    {
      "cell_type": "markdown",
      "source": [
        "# 1. Mean Squared Error (MSE):\n"
      ],
      "metadata": {
        "id": "JAzWB9Esfm_r"
      }
    },
    {
      "cell_type": "code",
      "execution_count": 44,
      "metadata": {
        "id": "EuSsCwgEQbdU",
        "colab": {
          "base_uri": "https://localhost:8080/"
        },
        "outputId": "1436ec83-3ec5-4d7b-df55-c0a760bc1cf2"
      },
      "outputs": [
        {
          "output_type": "stream",
          "name": "stdout",
          "text": [
            "Mean Squared Error (MSE): 0.05400000000000008\n"
          ]
        }
      ],
      "source": [
        "# 1. Mean Squared Error (MSE):\n",
        "\n",
        "# MSE measures the average of the squared differences between actual and predicted values.\n",
        "# Lower MSE indicates a better fit.\n",
        "# python\n",
        "# Copy code\n",
        "# MSE = 1/n * Σ(y_i - y_hat_i)^2\n",
        "from sklearn.metrics import mean_squared_error\n",
        "\n",
        "y_true = [3, 4, 2, 8, 9]  # Actual values\n",
        "y_pred = [2.8, 4.2, 2.3, 7.9, 8.7]  # Predicted values\n",
        "\n",
        "mse = mean_squared_error(y_true, y_pred)\n",
        "print(f\"Mean Squared Error (MSE): {mse}\")"
      ]
    },
    {
      "cell_type": "markdown",
      "source": [
        "# 2. R-squared (R2):\n"
      ],
      "metadata": {
        "id": "JQJ0kdwufonl"
      }
    },
    {
      "cell_type": "code",
      "source": [
        "# 2. R-squared (R2):\n",
        "\n",
        "# R2 measures the proportion of the variance in the dependent variable explained by the independent variables.\n",
        "# A higher R2 value indicates a better fit.\n",
        "# python\n",
        "# Copy code\n",
        "from sklearn.metrics import r2_score\n",
        "\n",
        "r2 = r2_score(y_true, y_pred)\n",
        "print(f\"R-squared (R2): {r2}\")"
      ],
      "metadata": {
        "colab": {
          "base_uri": "https://localhost:8080/"
        },
        "id": "5vVh7GYho64K",
        "outputId": "563635dc-f41d-4289-b8cc-57caa43cc491"
      },
      "execution_count": 45,
      "outputs": [
        {
          "output_type": "stream",
          "name": "stdout",
          "text": [
            "R-squared (R2): 0.9930412371134021\n"
          ]
        }
      ]
    },
    {
      "cell_type": "markdown",
      "source": [
        "# 3. Mean Absolute Error (MAE):\n"
      ],
      "metadata": {
        "id": "wYA1T3wDfqOY"
      }
    },
    {
      "cell_type": "code",
      "source": [
        "# 3. Mean Absolute Error (MAE):\n",
        "\n",
        "# MAE measures the average of the absolute differences between actual and predicted values.\n",
        "# MAE is less sensitive to outliers compared to MSE.\n",
        "# python\n",
        "# Copy code\n",
        "from sklearn.metrics import mean_absolute_error\n",
        "\n",
        "mae = mean_absolute_error(y_true, y_pred)\n",
        "print(f\"Mean Absolute Error (MAE): {mae}\")"
      ],
      "metadata": {
        "colab": {
          "base_uri": "https://localhost:8080/"
        },
        "id": "oh3CE0cHv4Jn",
        "outputId": "31217e1e-0230-4618-a68e-99effd2a7418"
      },
      "execution_count": 46,
      "outputs": [
        {
          "output_type": "stream",
          "name": "stdout",
          "text": [
            "Mean Absolute Error (MAE): 0.2200000000000001\n"
          ]
        }
      ]
    },
    {
      "cell_type": "markdown",
      "source": [
        "# 4. Root Mean Squared Error (RMSE):\n"
      ],
      "metadata": {
        "id": "RiYOErBnfsVl"
      }
    },
    {
      "cell_type": "code",
      "source": [
        "# 4. Root Mean Squared Error (RMSE):\n",
        "\n",
        "# RMSE is the square root of the MSE.\n",
        "# It provides a measure of the spread of errors in the predicted values.\n",
        "# python\n",
        "# Copy code\n",
        "\n",
        "rmse = np.sqrt(mse)\n",
        "print(f\"Root Mean Squared Error (RMSE): {rmse}\")"
      ],
      "metadata": {
        "colab": {
          "base_uri": "https://localhost:8080/"
        },
        "id": "BrJswFvOv_IV",
        "outputId": "98604dec-a0ba-40b1-b404-09438bc76be1"
      },
      "execution_count": 47,
      "outputs": [
        {
          "output_type": "stream",
          "name": "stdout",
          "text": [
            "Root Mean Squared Error (RMSE): 0.2323790007724452\n"
          ]
        }
      ]
    },
    {
      "cell_type": "markdown",
      "source": [
        "#  classification metrics"
      ],
      "metadata": {
        "id": "eAF_Y2hO19XU"
      }
    },
    {
      "cell_type": "markdown",
      "source": [
        "# 1. Accuracy:\n"
      ],
      "metadata": {
        "id": "VcWCbMAeft7t"
      }
    },
    {
      "cell_type": "code",
      "source": [
        "# 1. Accuracy:\n",
        "# Definition: Accuracy measures the proportion of correctly classified instances out of the total instances.\n",
        "\n",
        "# Python Code:\n",
        "\n",
        "# python\n",
        "# Copy code\n",
        "from sklearn.metrics import accuracy_score\n",
        "\n",
        "y_true = [1, 0, 1, 1, 0, 1, 0]\n",
        "y_pred = [1, 1, 1, 0, 1, 1, 0]\n",
        "\n",
        "accuracy = accuracy_score(y_true, y_pred)\n",
        "print(f\"Accuracy: {accuracy}\")"
      ],
      "metadata": {
        "colab": {
          "base_uri": "https://localhost:8080/"
        },
        "id": "m944GOM6xDDY",
        "outputId": "117a2cbe-dc00-4b96-d1a8-c3740caa8127"
      },
      "execution_count": 48,
      "outputs": [
        {
          "output_type": "stream",
          "name": "stdout",
          "text": [
            "Accuracy: 0.5714285714285714\n"
          ]
        }
      ]
    },
    {
      "cell_type": "markdown",
      "source": [
        "# 2. Precision:\n"
      ],
      "metadata": {
        "id": "ACse7BoifvXR"
      }
    },
    {
      "cell_type": "code",
      "source": [
        "# 2. Precision:\n",
        "# Definition: Precision measures the ability of the classifier to correctly classify positive instances.\n",
        "\n",
        "# Python Code:\n",
        "\n",
        "# python\n",
        "# Copy code\n",
        "from sklearn.metrics import precision_score\n",
        "\n",
        "precision = precision_score(y_true, y_pred)\n",
        "print(f\"Precision: {precision}\")"
      ],
      "metadata": {
        "colab": {
          "base_uri": "https://localhost:8080/"
        },
        "id": "wHBkoGbW2B_x",
        "outputId": "8f7e6e3a-94f5-4d47-a2f1-e62db32b3d15"
      },
      "execution_count": 49,
      "outputs": [
        {
          "output_type": "stream",
          "name": "stdout",
          "text": [
            "Precision: 0.6\n"
          ]
        }
      ]
    },
    {
      "cell_type": "markdown",
      "source": [
        "# 3. Recall (Sensitivity):\n"
      ],
      "metadata": {
        "id": "cKU7GHNRfxfz"
      }
    },
    {
      "cell_type": "code",
      "source": [
        "# . Recall (Sensitivity):\n",
        "# Definition: Recall, also known as Sensitivity or True Positive Rate, measures the ability of the classifier to identify all positive instances.\n",
        "\n",
        "# Python Code:\n",
        "\n",
        "# python\n",
        "# Copy code\n",
        "from sklearn.metrics import recall_score\n",
        "\n",
        "recall = recall_score(y_true, y_pred)\n",
        "print(f\"Recall (Sensitivity): {recall}\")"
      ],
      "metadata": {
        "colab": {
          "base_uri": "https://localhost:8080/"
        },
        "id": "3JD2QIwO2HEL",
        "outputId": "6734fd70-63de-4d1c-80c5-a7be081ff9d3"
      },
      "execution_count": 50,
      "outputs": [
        {
          "output_type": "stream",
          "name": "stdout",
          "text": [
            "Recall (Sensitivity): 0.75\n"
          ]
        }
      ]
    },
    {
      "cell_type": "markdown",
      "source": [
        "# 4. F1 Score:\n"
      ],
      "metadata": {
        "id": "UvpVuVgyf2xQ"
      }
    },
    {
      "cell_type": "code",
      "source": [
        "# 4. F1 Score:\n",
        "# Definition: F1 Score is the harmonic mean of precision and recall. It balances both metrics and is useful when there is an imbalance between the classes.\n",
        "\n",
        "# Python Code:\n",
        "\n",
        "# python\n",
        "# Copy code\n",
        "from sklearn.metrics import f1_score\n",
        "\n",
        "f1 = f1_score(y_true, y_pred)\n",
        "print(f\"F1 Score: {f1}\")"
      ],
      "metadata": {
        "colab": {
          "base_uri": "https://localhost:8080/"
        },
        "id": "hl32r-Sa2aB7",
        "outputId": "bb631248-16b6-4769-f0fd-ed1e3ff1739b"
      },
      "execution_count": 51,
      "outputs": [
        {
          "output_type": "stream",
          "name": "stdout",
          "text": [
            "F1 Score: 0.6666666666666665\n"
          ]
        }
      ]
    },
    {
      "cell_type": "markdown",
      "source": [
        "# 5. Area Under the Receiver Operating Characteristic Curve (AUC-ROC):\n"
      ],
      "metadata": {
        "id": "ViztXC1of48R"
      }
    },
    {
      "cell_type": "code",
      "source": [
        "# 5. Area Under the Receiver Operating Characteristic Curve (AUC-ROC):\n",
        "# Definition: AUC-ROC measures the area under the Receiver Operating Characteristic (ROC) curve. It quantifies the ability of the classifier to distinguish between classes.\n",
        "\n",
        "# Python Code:\n",
        "\n",
        "# python\n",
        "# Copy code\n",
        "from sklearn.metrics import roc_auc_score\n",
        "\n",
        "y_prob = [0.8, 0.6, 0.7, 0.4, 0.9, 0.7, 0.3]  # Probability scores for the positive class\n",
        "\n",
        "roc_auc = roc_auc_score(y_true, y_prob)\n",
        "print(f\"AUC-ROC: {roc_auc}\")"
      ],
      "metadata": {
        "colab": {
          "base_uri": "https://localhost:8080/"
        },
        "id": "_VwfXbvu2hrs",
        "outputId": "8bfed56b-aa66-4089-c806-46cbfae0e52b"
      },
      "execution_count": 52,
      "outputs": [
        {
          "output_type": "stream",
          "name": "stdout",
          "text": [
            "AUC-ROC: 0.5833333333333334\n"
          ]
        }
      ]
    },
    {
      "cell_type": "markdown",
      "source": [
        "# 6. Area Under the Precision-Recall Curve (AUC-PRC):\n"
      ],
      "metadata": {
        "id": "x4tt48QVf68s"
      }
    },
    {
      "cell_type": "code",
      "source": [
        "# 6. Area Under the Precision-Recall Curve (AUC-PRC):\n",
        "# Definition: AUC-PRC measures the area under the Precision-Recall Curve. It is useful when dealing with imbalanced datasets.\n",
        "\n",
        "# Python Code:\n",
        "\n",
        "# python\n",
        "# Copy code\n",
        "from sklearn.metrics import average_precision_score\n",
        "\n",
        "y_prob = [0.8, 0.6, 0.7, 0.4, 0.9, 0.7, 0.3]  # Probability scores for the positive class\n",
        "\n",
        "prc_auc = average_precision_score(y_true, y_prob)\n",
        "print(f\"AUC-PRC: {prc_auc}\")"
      ],
      "metadata": {
        "colab": {
          "base_uri": "https://localhost:8080/"
        },
        "id": "IivDDrpu20jn",
        "outputId": "f479b1a3-3ef2-440c-a7c2-16b314ba744b"
      },
      "execution_count": 53,
      "outputs": [
        {
          "output_type": "stream",
          "name": "stdout",
          "text": [
            "AUC-PRC: 0.6666666666666666\n"
          ]
        }
      ]
    },
    {
      "cell_type": "markdown",
      "source": [
        "# 7. Specificity:\n"
      ],
      "metadata": {
        "id": "BB2sHZMLf9Dc"
      }
    },
    {
      "cell_type": "code",
      "source": [
        "# 7. Specificity:\n",
        "# Definition: Specificity measures the ability of the classifier to correctly identify negative instances.\n",
        "\n",
        "# Python Code:\n",
        "\n",
        "# python\n",
        "# Copy code\n",
        "from sklearn.metrics import confusion_matrix\n",
        "\n",
        "y_true = [1, 0, 1, 1, 0, 1, 0]\n",
        "y_pred = [1, 1, 1, 0, 1, 1, 0]\n",
        "\n",
        "tn, fp, fn, tp = confusion_matrix(y_true, y_pred).ravel()\n",
        "specificity = tn / (tn + fp)\n",
        "print(f\"Specificity: {specificity}\")"
      ],
      "metadata": {
        "colab": {
          "base_uri": "https://localhost:8080/"
        },
        "id": "NXAcBRAv3Rab",
        "outputId": "5eadbe30-679e-4a47-b869-4115c4447a7c"
      },
      "execution_count": 54,
      "outputs": [
        {
          "output_type": "stream",
          "name": "stdout",
          "text": [
            "Specificity: 0.3333333333333333\n"
          ]
        }
      ]
    },
    {
      "cell_type": "markdown",
      "source": [
        "# 8. F2 Score:\n"
      ],
      "metadata": {
        "id": "VQg4KpiCf_By"
      }
    },
    {
      "cell_type": "code",
      "source": [
        "# 8. F2 Score:\n",
        "# Definition: The F2 Score is an extension of the F1 Score, giving more weight to recall. It is useful when recall is more important than precision.\n",
        "\n",
        "# Python Code:\n",
        "\n",
        "# python\n",
        "# Copy code\n",
        "from sklearn.metrics import fbeta_score\n",
        "\n",
        "f2 = fbeta_score(y_true, y_pred, beta=2)\n",
        "print(f\"F2 Score: {f2}\")"
      ],
      "metadata": {
        "colab": {
          "base_uri": "https://localhost:8080/"
        },
        "id": "QfrlFd754Eo9",
        "outputId": "65e7df73-8ea1-4a3e-db47-20c00b6bd50a"
      },
      "execution_count": 55,
      "outputs": [
        {
          "output_type": "stream",
          "name": "stdout",
          "text": [
            "F2 Score: 0.7142857142857143\n"
          ]
        }
      ]
    },
    {
      "cell_type": "markdown",
      "source": [
        "# Polynomial regression model\n"
      ],
      "metadata": {
        "id": "g3iN8SZ5gCAN"
      }
    },
    {
      "cell_type": "code",
      "source": [
        "import numpy as np\n",
        "import matplotlib.pyplot as plt\n",
        "from sklearn.preprocessing import PolynomialFeatures\n",
        "from sklearn.linear_model import LinearRegression\n",
        "from sklearn.pipeline import make_pipeline\n",
        "\n",
        "# Generate synthetic data\n",
        "np.random.seed(0)\n",
        "X = np.sort(5 * np.random.rand(80, 1), axis=0)\n",
        "y = np.sin(X).ravel() + np.random.normal(0, 0.1, X.shape[0])\n",
        "\n",
        "# Polynomial regression model\n",
        "degree = 3  # Degree of the polynomial\n",
        "model = make_pipeline(PolynomialFeatures(degree), LinearRegression())\n",
        "\n",
        "# Fit the model to the data\n",
        "model.fit(X, y)\n",
        "\n",
        "# Predict on the entire range of X for visualization\n",
        "X_test = np.arange(0.0, 5.0, 0.01)[:, np.newaxis]\n",
        "y_pred = model.predict(X_test)\n",
        "\n",
        "# Plot the data and the fitted curve\n",
        "plt.scatter(X, y, label=\"Training points\")\n",
        "plt.plot(X_test, y_pred, color='r', label=\"Fitted curve\")\n",
        "plt.xlabel(\"X\")\n",
        "plt.ylabel(\"y\")\n",
        "plt.legend()\n",
        "plt.show()\n"
      ],
      "metadata": {
        "colab": {
          "base_uri": "https://localhost:8080/",
          "height": 449
        },
        "id": "3LFdkQzg4OL5",
        "outputId": "a8d92c7a-1331-4df8-bb70-6d157a98341a"
      },
      "execution_count": 56,
      "outputs": [
        {
          "output_type": "display_data",
          "data": {
            "text/plain": [
              "<Figure size 640x480 with 1 Axes>"
            ],
            "image/png": "[encoded data removed]"
          },
          "metadata": {}
        }
      ]
    },
    {
      "cell_type": "markdown",
      "source": [
        "# Ridge Regression model\n"
      ],
      "metadata": {
        "id": "-GD41z-BgEWX"
      }
    },
    {
      "cell_type": "code",
      "source": [
        "from sklearn.linear_model import Ridge\n",
        "from sklearn.datasets import make_regression\n",
        "from sklearn.model_selection import train_test_split\n",
        "from sklearn.metrics import mean_squared_error\n",
        "\n",
        "# Generate synthetic data\n",
        "X, y = make_regression(n_samples=10000, n_features=1, noise=5, random_state=42)\n",
        "\n",
        "# Split the data into training and testing sets\n",
        "X_train, X_test, y_train, y_test = train_test_split(X, y, test_size=0.2, random_state=42)\n",
        "\n",
        "# Ridge Regression model\n",
        "alpha = 1.0  # Regularization strength (higher values mean stronger regularization)\n",
        "ridge_model = Ridge(alpha=alpha)\n",
        "\n",
        "# Fit the model to the training data\n",
        "ridge_model.fit(X_train, y_train)\n",
        "\n",
        "# Predict on the test data\n",
        "y_pred = ridge_model.predict(X_test)\n",
        "\n",
        "# Calculate and print the Mean Squared Error\n",
        "mse = mean_squared_error(y_test, y_pred)\n",
        "print(f\"Ridge Regression MSE: {mse}\")\n"
      ],
      "metadata": {
        "colab": {
          "base_uri": "https://localhost:8080/"
        },
        "id": "e_vIsHQc7VWv",
        "outputId": "4c251d70-dce1-4775-d898-e304b86e525a"
      },
      "execution_count": 57,
      "outputs": [
        {
          "output_type": "stream",
          "name": "stdout",
          "text": [
            "Ridge Regression MSE: 24.781786871779328\n"
          ]
        }
      ]
    },
    {
      "cell_type": "markdown",
      "source": [
        "# Lasso Regression model\n"
      ],
      "metadata": {
        "id": "HKHy2lnbgGNw"
      }
    },
    {
      "cell_type": "code",
      "source": [
        "from sklearn.linear_model import Lasso\n",
        "\n",
        "# Lasso Regression model\n",
        "alpha = 1.0  # Regularization strength (higher values mean stronger regularization)\n",
        "lasso_model = Lasso(alpha=alpha)\n",
        "\n",
        "# Fit the model to the training data\n",
        "lasso_model.fit(X_train, y_train)\n",
        "\n",
        "# Predict on the test data\n",
        "y_pred = lasso_model.predict(X_test)\n",
        "\n",
        "# Calculate and print the Mean Squared Error\n",
        "mse = mean_squared_error(y_test, y_pred)\n",
        "print(f\"Lasso Regression MSE: {mse}\")\n"
      ],
      "metadata": {
        "colab": {
          "base_uri": "https://localhost:8080/"
        },
        "id": "i9TL2dnn8lJH",
        "outputId": "45d09fd3-5a32-4a65-d011-03fde20e683d"
      },
      "execution_count": 58,
      "outputs": [
        {
          "output_type": "stream",
          "name": "stdout",
          "text": [
            "Lasso Regression MSE: 25.98456685169437\n"
          ]
        }
      ]
    },
    {
      "cell_type": "markdown",
      "source": [
        "# generator function"
      ],
      "metadata": {
        "id": "wYDWsbwfgK1W"
      }
    },
    {
      "cell_type": "code",
      "source": [
        "import pandas as pd\n",
        "\n",
        "# Sample DataFrame\n",
        "data = {\n",
        "    'Column1': ['A', 'B', 'A', 'A', 'C'],\n",
        "    'Column2': ['X', 'Y', 'Y', 'X', 'Z'],\n",
        "    'Numeric': [10, 20, 30, 40, 50]\n",
        "}\n",
        "\n",
        "df = pd.DataFrame(data)\n",
        "\n",
        "def column_value_counts_generator(dataframe):\n",
        "    for column in dataframe.columns:\n",
        "        yield column, dataframe[column].value_counts()\n",
        "\n",
        "# Iterate through the generator function to get value counts for each column\n",
        "for column_name, value_counts in column_value_counts_generator(df):\n",
        "    print(f\"Value counts for {column_name}:\\n{value_counts}\\n\")\n"
      ],
      "metadata": {
        "id": "9ac_Kudv8tAd",
        "colab": {
          "base_uri": "https://localhost:8080/"
        },
        "outputId": "daedb688-6b54-4ad3-beb8-a059ec77659c"
      },
      "execution_count": 59,
      "outputs": [
        {
          "output_type": "stream",
          "name": "stdout",
          "text": [
            "Value counts for Column1:\n",
            "Column1\n",
            "A    3\n",
            "B    1\n",
            "C    1\n",
            "Name: count, dtype: int64\n",
            "\n",
            "Value counts for Column2:\n",
            "Column2\n",
            "X    2\n",
            "Y    2\n",
            "Z    1\n",
            "Name: count, dtype: int64\n",
            "\n",
            "Value counts for Numeric:\n",
            "Numeric\n",
            "10    1\n",
            "20    1\n",
            "30    1\n",
            "40    1\n",
            "50    1\n",
            "Name: count, dtype: int64\n",
            "\n"
          ]
        }
      ]
    },
    {
      "cell_type": "code",
      "source": [],
      "metadata": {
        "id": "e8TAczlalNgJ"
      },
      "execution_count": 59,
      "outputs": []
    }
  ],
  "metadata": {
    "colab": {
      "provenance": [],
      "include_colab_link": true
    },
    "kernelspec": {
      "display_name": "Python 3",
      "name": "python3"
    },
    "language_info": {
      "name": "python"
    }
  },
  "nbformat": 4,
  "nbformat_minor": 0
}